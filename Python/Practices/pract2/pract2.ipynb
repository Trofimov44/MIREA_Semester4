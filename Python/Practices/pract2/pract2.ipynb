{
  "cells": [
    {
      "cell_type": "markdown",
      "metadata": {
        "id": "OQGRZItz7ECg"
      },
      "source": [
        "## 1. Форматирование кода"
      ]
    },
    {
      "cell_type": "markdown",
      "source": [
        "Приведите примеры кода, которые соответствуют нарушениям PEP 8. Для проверки используйте библиотеку [pycodestyle](https://github.com/PyCQA/pycodestyle) или ЦАП."
      ],
      "metadata": {
        "id": "kzW-iqnt1iht"
      }
    },
    {
      "cell_type": "code",
      "source": [
        "!pip install pycodestyle"
      ],
      "metadata": {
        "colab": {
          "base_uri": "https://localhost:8080/"
        },
        "id": "iEZVTIsR1X9x",
        "outputId": "1cf9bb16-d2de-4d4a-aad7-9da9171e6648"
      },
      "execution_count": null,
      "outputs": [
        {
          "output_type": "stream",
          "name": "stdout",
          "text": [
            "Collecting pycodestyle\n",
            "  Downloading pycodestyle-2.12.1-py2.py3-none-any.whl.metadata (4.5 kB)\n",
            "Downloading pycodestyle-2.12.1-py2.py3-none-any.whl (31 kB)\n",
            "Installing collected packages: pycodestyle\n",
            "Successfully installed pycodestyle-2.12.1\n"
          ]
        }
      ]
    },
    {
      "cell_type": "markdown",
      "source": [
        "1.1. (уровень сложности: простейший)\n",
        "\n",
        "E211 whitespace before '('"
      ],
      "metadata": {
        "id": "XvFT7U840OnT"
      }
    },
    {
      "cell_type": "code",
      "source": [
        "%%file example.py\n",
        "def example_function ():  # Нарушение E211: пробел перед '('\n",
        "    print(\"Hello, World!\")"
      ],
      "metadata": {
        "colab": {
          "base_uri": "https://localhost:8080/"
        },
        "id": "TE6eP6Q80P_X",
        "outputId": "ba84328c-1103-4a35-c643-dd6013c13087"
      },
      "execution_count": null,
      "outputs": [
        {
          "output_type": "stream",
          "name": "stdout",
          "text": [
            "Overwriting example.py\n"
          ]
        }
      ]
    },
    {
      "cell_type": "code",
      "source": [
        "!pycodestyle example.py"
      ],
      "metadata": {
        "colab": {
          "base_uri": "https://localhost:8080/"
        },
        "id": "P5cG3hc_1_4A",
        "outputId": "1acf38aa-2793-4f03-d182-6e182908ab13"
      },
      "execution_count": null,
      "outputs": [
        {
          "output_type": "stream",
          "name": "stdout",
          "text": [
            "example.py:1:21: E211 whitespace before '('\n"
          ]
        }
      ]
    },
    {
      "cell_type": "markdown",
      "source": [
        "**1.2.** (уровень сложности: простейший)\n",
        "\n",
        "E225 missing whitespace around operator"
      ],
      "metadata": {
        "id": "-_PcIzSs1p2M"
      }
    },
    {
      "cell_type": "code",
      "source": [
        "%%file example.py\n",
        "x=5  # Нарушение E225: отсутствие пробелов вокруг оператора ="
      ],
      "metadata": {
        "colab": {
          "base_uri": "https://localhost:8080/"
        },
        "id": "hzZytH9E1vRD",
        "outputId": "843b6bcb-c85d-42a0-fd7b-c23e87891800"
      },
      "execution_count": null,
      "outputs": [
        {
          "output_type": "stream",
          "name": "stdout",
          "text": [
            "Overwriting example.py\n"
          ]
        }
      ]
    },
    {
      "cell_type": "code",
      "source": [
        "!pycodestyle example.py"
      ],
      "metadata": {
        "colab": {
          "base_uri": "https://localhost:8080/"
        },
        "id": "bRVNXhjp15Xn",
        "outputId": "5b8f7fdf-584a-481b-9aef-74d6fdeac003"
      },
      "execution_count": null,
      "outputs": [
        {
          "output_type": "stream",
          "name": "stdout",
          "text": [
            "example.py:1:2: E225 missing whitespace around operator\n"
          ]
        }
      ]
    },
    {
      "cell_type": "markdown",
      "source": [
        "**1.3.** (уровень сложности: простейший)\n",
        "\n",
        "E231 missing whitespace after ','"
      ],
      "metadata": {
        "id": "mskLLTDm5Xct"
      }
    },
    {
      "cell_type": "code",
      "source": [
        "%%file example.py\n",
        "print(\"Hello\",\"World!\")"
      ],
      "metadata": {
        "colab": {
          "base_uri": "https://localhost:8080/"
        },
        "id": "Sjwqwssi5S3R",
        "outputId": "1227b2a2-2283-4e4b-e061-898ac9eada26"
      },
      "execution_count": null,
      "outputs": [
        {
          "output_type": "stream",
          "name": "stdout",
          "text": [
            "Overwriting example.py\n"
          ]
        }
      ]
    },
    {
      "cell_type": "code",
      "source": [
        "!pycodestyle example.py"
      ],
      "metadata": {
        "colab": {
          "base_uri": "https://localhost:8080/"
        },
        "id": "VQwrr3mt5Zrf",
        "outputId": "5e8e21a8-9a81-415e-c76d-4c0f0e2d4c7f"
      },
      "execution_count": null,
      "outputs": [
        {
          "output_type": "stream",
          "name": "stdout",
          "text": [
            "example.py:1:14: E231 missing whitespace after ','\n"
          ]
        }
      ]
    },
    {
      "cell_type": "markdown",
      "source": [
        "**1.4.** (уровень сложности: простейший)\n",
        "\n",
        "E251 unexpected spaces around keyword / parameter equals"
      ],
      "metadata": {
        "id": "ZhFP0duy5ipo"
      }
    },
    {
      "cell_type": "code",
      "source": [
        "%%file example.py\n",
        "def example_function(param1 = 5):  # Нарушение E251\n",
        "    print(param1)"
      ],
      "metadata": {
        "colab": {
          "base_uri": "https://localhost:8080/"
        },
        "id": "1_w-FqD5516R",
        "outputId": "926fead3-d47e-4a12-9887-1734932a2249"
      },
      "execution_count": null,
      "outputs": [
        {
          "output_type": "stream",
          "name": "stdout",
          "text": [
            "Overwriting example.py\n"
          ]
        }
      ]
    },
    {
      "cell_type": "code",
      "source": [
        "!pycodestyle example.py"
      ],
      "metadata": {
        "colab": {
          "base_uri": "https://localhost:8080/"
        },
        "id": "_H6wWcjT5-zN",
        "outputId": "936d663f-1bed-453d-9a0e-e2ead015650f"
      },
      "execution_count": null,
      "outputs": [
        {
          "output_type": "stream",
          "name": "stdout",
          "text": [
            "example.py:1:28: E251 unexpected spaces around keyword / parameter equals\n",
            "example.py:1:30: E251 unexpected spaces around keyword / parameter equals\n"
          ]
        }
      ]
    },
    {
      "cell_type": "markdown",
      "source": [
        "**1.5.** (уровень сложности: простейший)\n",
        "\n",
        "E302 expected 2 blank lines, found 1"
      ],
      "metadata": {
        "id": "I0bUhdMa5khT"
      }
    },
    {
      "cell_type": "code",
      "source": [
        "%%file example.py\n",
        "def function_one():\n",
        "    print(\"Function One\")\n",
        "\n",
        "def function_two():  # Нарушение E302: только одна пустая строка перед функцией\n",
        "    print(\"Function Two\")"
      ],
      "metadata": {
        "colab": {
          "base_uri": "https://localhost:8080/"
        },
        "id": "YqQzfD6W6QC-",
        "outputId": "5b041943-450e-4d57-b7cb-89089564bfe1"
      },
      "execution_count": null,
      "outputs": [
        {
          "output_type": "stream",
          "name": "stdout",
          "text": [
            "Overwriting example.py\n"
          ]
        }
      ]
    },
    {
      "cell_type": "code",
      "source": [
        "!pycodestyle example.py"
      ],
      "metadata": {
        "colab": {
          "base_uri": "https://localhost:8080/"
        },
        "id": "RyyuVF6w6T8K",
        "outputId": "cafafc68-a89f-4e19-9884-977be58ff998"
      },
      "execution_count": null,
      "outputs": [
        {
          "output_type": "stream",
          "name": "stdout",
          "text": [
            "example.py:4:1: E302 expected 2 blank lines, found 1\n"
          ]
        }
      ]
    },
    {
      "cell_type": "markdown",
      "source": [
        "**1.6.** (уровень сложности: простейший)\n",
        "\n",
        "E701 multiple statements on one line (colon)"
      ],
      "metadata": {
        "id": "9kL4d91E5maJ"
      }
    },
    {
      "cell_type": "code",
      "source": [
        "%%file example.py\n",
        "if x > 0: print(\"Positive\")  # Нарушение E701: несколько операторов на строке"
      ],
      "metadata": {
        "colab": {
          "base_uri": "https://localhost:8080/"
        },
        "id": "kl1TftZ56heK",
        "outputId": "6f1fdf5c-5475-4d89-c8c2-277e8c584cf5"
      },
      "execution_count": null,
      "outputs": [
        {
          "output_type": "stream",
          "name": "stdout",
          "text": [
            "Overwriting example.py\n"
          ]
        }
      ]
    },
    {
      "cell_type": "code",
      "source": [
        "!pycodestyle example.py"
      ],
      "metadata": {
        "colab": {
          "base_uri": "https://localhost:8080/"
        },
        "id": "yJiQyFIY6l5c",
        "outputId": "7acadfa1-431f-4aa4-c6e0-62c4ab08f734"
      },
      "execution_count": null,
      "outputs": [
        {
          "output_type": "stream",
          "name": "stdout",
          "text": [
            "example.py:1:9: E701 multiple statements on one line (colon)\n"
          ]
        }
      ]
    },
    {
      "cell_type": "markdown",
      "source": [
        "**1.7.** (уровень сложности: простейший)\n",
        "\n",
        "E702 multiple statements on one line (semicolon)"
      ],
      "metadata": {
        "id": "bAwzSA2u5ovg"
      }
    },
    {
      "cell_type": "code",
      "source": [
        "%%file example.py\n",
        "x = 5; y = 10  # Нарушение E702: несколько операторов на одной строке"
      ],
      "metadata": {
        "colab": {
          "base_uri": "https://localhost:8080/"
        },
        "id": "1xD_lPIL63Xy",
        "outputId": "2068efa0-2067-44e8-eb3b-89ea2fae67f4"
      },
      "execution_count": null,
      "outputs": [
        {
          "output_type": "stream",
          "name": "stdout",
          "text": [
            "Overwriting example.py\n"
          ]
        }
      ]
    },
    {
      "cell_type": "code",
      "source": [
        "!pycodestyle example.py"
      ],
      "metadata": {
        "colab": {
          "base_uri": "https://localhost:8080/"
        },
        "id": "0H_d9o3t68BD",
        "outputId": "52639eac-0007-444e-d313-63ba30c77279"
      },
      "execution_count": null,
      "outputs": [
        {
          "output_type": "stream",
          "name": "stdout",
          "text": [
            "example.py:1:6: E702 multiple statements on one line (semicolon)\n"
          ]
        }
      ]
    },
    {
      "cell_type": "markdown",
      "source": [
        "**1.8.** (уровень сложности: простейший)\n",
        "\n",
        "E711 comparison to None should be 'if cond is None:'"
      ],
      "metadata": {
        "id": "cx7zfFi65rMS"
      }
    },
    {
      "cell_type": "code",
      "source": [
        "%%file example.py\n",
        "if x == None:  # Нарушение E711: сравнение с None через ==\n",
        "    print(\"x is None\")"
      ],
      "metadata": {
        "colab": {
          "base_uri": "https://localhost:8080/"
        },
        "id": "Pm4p6-zA7IaV",
        "outputId": "3fb520ec-9335-446b-b448-372927f81748"
      },
      "execution_count": null,
      "outputs": [
        {
          "output_type": "stream",
          "name": "stdout",
          "text": [
            "Overwriting example.py\n"
          ]
        }
      ]
    },
    {
      "cell_type": "code",
      "source": [
        "!pycodestyle example.py"
      ],
      "metadata": {
        "colab": {
          "base_uri": "https://localhost:8080/"
        },
        "id": "zTSKRWAS7JGb",
        "outputId": "3b60c0cb-bf22-41ce-972e-ca06f0dad931"
      },
      "execution_count": null,
      "outputs": [
        {
          "output_type": "stream",
          "name": "stdout",
          "text": [
            "example.py:1:6: E711 comparison to None should be 'if cond is None:'\n"
          ]
        }
      ]
    },
    {
      "cell_type": "markdown",
      "metadata": {
        "id": "5NJNjkk77ECi"
      },
      "source": [
        "**1.9.** (уровень сложности: простейший)\n",
        "\n",
        "E712 comparison to True should be 'if cond is True:' or 'if cond:'"
      ]
    },
    {
      "cell_type": "code",
      "source": [
        "%%file example.py\n",
        "if x == True:  # Нарушение E712: сравнение с True через ==\n",
        "    print(\"x is True\")"
      ],
      "metadata": {
        "colab": {
          "base_uri": "https://localhost:8080/"
        },
        "id": "2BTJcLZO7YVx",
        "outputId": "51583b2c-64b5-499a-c6c4-3340ffd20cca"
      },
      "execution_count": null,
      "outputs": [
        {
          "output_type": "stream",
          "name": "stdout",
          "text": [
            "Overwriting example.py\n"
          ]
        }
      ]
    },
    {
      "cell_type": "code",
      "source": [
        "!pycodestyle example.py"
      ],
      "metadata": {
        "colab": {
          "base_uri": "https://localhost:8080/"
        },
        "id": "I80GmWGU7bpT",
        "outputId": "762c0bf4-e22a-4cdc-8daa-f37f4dbbef39"
      },
      "execution_count": null,
      "outputs": [
        {
          "output_type": "stream",
          "name": "stdout",
          "text": [
            "example.py:1:6: E712 comparison to True should be 'if cond is True:' or 'if cond:'\n"
          ]
        }
      ]
    },
    {
      "cell_type": "markdown",
      "metadata": {
        "id": "Bpy50NyP7ECj"
      },
      "source": [
        "## 2. Некоторые особенности языка"
      ]
    },
    {
      "cell_type": "markdown",
      "metadata": {
        "id": "D8CGebiH7ECk"
      },
      "source": [
        "**2.1.** (уровень сложности: низкий)\n",
        "\n",
        "Объясните, что это за код. Это Питон?\n",
        "\n",
        "```[0xfor _ in 'abc']```"
      ]
    },
    {
      "cell_type": "code",
      "source": [
        "'''\n",
        "0x используется для обозначения шестнадцатеричных (hex) чисел\n",
        "Код пытается создать список, где каждый элемент — это результат выражения 0x0f or _ для каждого символа в строке 'abc'.\n",
        "Поскольку 0x0f (15) — это истинное значение, оператор or всегда возвращает 0x0f, независимо от значения _.\n",
        "'''\n",
        "x = [0xfor _ in 'abc']\n",
        "print(x)"
      ],
      "metadata": {
        "colab": {
          "base_uri": "https://localhost:8080/"
        },
        "id": "iVyJ5LuIB4b-",
        "outputId": "4d908f61-94b1-44a7-97d7-342691d8bdb3"
      },
      "execution_count": null,
      "outputs": [
        {
          "output_type": "stream",
          "name": "stdout",
          "text": [
            "[15]\n"
          ]
        },
        {
          "output_type": "stream",
          "name": "stderr",
          "text": [
            "<>:6: SyntaxWarning: invalid hexadecimal literal\n",
            "<>:6: SyntaxWarning: invalid hexadecimal literal\n",
            "<ipython-input-56-0c56c28f6e88>:6: SyntaxWarning: invalid hexadecimal literal\n",
            "  x = [0xfor _ in 'abc']\n"
          ]
        }
      ]
    },
    {
      "cell_type": "markdown",
      "metadata": {
        "id": "89al5GyZ7ECl"
      },
      "source": [
        "**2.2.** (уровень сложности: низкий)\n",
        "\n",
        "Реализуйте функцию, которая принимает только именованные аргументы. При передаче позиционного аргумента Питон должен выдать ошибку. В тело функции для этого никаких проверок добавлять нельзя."
      ]
    },
    {
      "cell_type": "code",
      "source": [
        "def named_args_only(*, arg1, arg2):\n",
        "    print(f\"arg1: {arg1}, arg2: {arg2}\")\n",
        "\n",
        "# Пример использования:\n",
        "named_args_only(arg1=10, arg2=20)  # Работает\n",
        "named_args_only(10, 20)            # Ошибка"
      ],
      "metadata": {
        "colab": {
          "base_uri": "https://localhost:8080/",
          "height": 193
        },
        "id": "9vUBMfC_JSj8",
        "outputId": "ab9dde97-1f48-4474-95be-234db43ccb3e"
      },
      "execution_count": null,
      "outputs": [
        {
          "output_type": "stream",
          "name": "stdout",
          "text": [
            "arg1: 10, arg2: 20\n"
          ]
        },
        {
          "output_type": "error",
          "ename": "TypeError",
          "evalue": "named_args_only() takes 0 positional arguments but 2 were given",
          "traceback": [
            "\u001b[0;31m---------------------------------------------------------------------------\u001b[0m",
            "\u001b[0;31mTypeError\u001b[0m                                 Traceback (most recent call last)",
            "\u001b[0;32m<ipython-input-57-395b9ee11c56>\u001b[0m in \u001b[0;36m<cell line: 0>\u001b[0;34m()\u001b[0m\n\u001b[1;32m      4\u001b[0m \u001b[0;31m# Пример использования:\u001b[0m\u001b[0;34m\u001b[0m\u001b[0;34m\u001b[0m\u001b[0m\n\u001b[1;32m      5\u001b[0m \u001b[0mnamed_args_only\u001b[0m\u001b[0;34m(\u001b[0m\u001b[0marg1\u001b[0m\u001b[0;34m=\u001b[0m\u001b[0;36m10\u001b[0m\u001b[0;34m,\u001b[0m \u001b[0marg2\u001b[0m\u001b[0;34m=\u001b[0m\u001b[0;36m20\u001b[0m\u001b[0;34m)\u001b[0m  \u001b[0;31m# Работает\u001b[0m\u001b[0;34m\u001b[0m\u001b[0;34m\u001b[0m\u001b[0m\n\u001b[0;32m----> 6\u001b[0;31m \u001b[0mnamed_args_only\u001b[0m\u001b[0;34m(\u001b[0m\u001b[0;36m10\u001b[0m\u001b[0;34m,\u001b[0m \u001b[0;36m20\u001b[0m\u001b[0;34m)\u001b[0m            \u001b[0;31m# Ошибка\u001b[0m\u001b[0;34m\u001b[0m\u001b[0;34m\u001b[0m\u001b[0m\n\u001b[0m",
            "\u001b[0;31mTypeError\u001b[0m: named_args_only() takes 0 positional arguments but 2 were given"
          ]
        }
      ]
    },
    {
      "cell_type": "markdown",
      "metadata": {
        "id": "n3csXJoQ7ECl"
      },
      "source": [
        "**2.3.** (уровень сложности: низкий)\n",
        "\n",
        "Странные результаты приведены ниже. Как такое возможно?"
      ]
    },
    {
      "cell_type": "code",
      "execution_count": null,
      "metadata": {
        "id": "9Rb_Hl9p7ECm",
        "outputId": "709bf2bf-d69b-41e0-cdea-d14c98b29352"
      },
      "outputs": [
        {
          "name": "stdout",
          "output_type": "stream",
          "text": [
            "True False\n"
          ]
        }
      ],
      "source": [
        "a = 1\n",
        "b = 1\n",
        "c = 300000 # проверено в Python 3.11\n",
        "d = 300000\n",
        "print(a is b, c is d)\n",
        "'''\n",
        "Python кэширует небольшие целые числа (обычно в диапазоне от -5 до 256).\n",
        "Это означает, что все переменные, которые ссылаются на одно и то же маленькое\n",
        "число, будут указывать на один и тот же объект в памяти.\n",
        "\n",
        "Для больших чисел (например, 300000) Python не использует кэширование.\n",
        "Каждое присваивание создаёт новый объект в памяти.\n",
        "'''"
      ]
    },
    {
      "cell_type": "code",
      "execution_count": null,
      "metadata": {
        "id": "eWGccwx77ECo",
        "outputId": "192a1089-1d21-4472-cee7-e75fe49d8647"
      },
      "outputs": [
        {
          "name": "stdout",
          "output_type": "stream",
          "text": [
            "True True False\n"
          ]
        }
      ],
      "source": [
        "a, b = 'py', 'py'\n",
        "c = ''.join(['p', 'y'])\n",
        "print(a is b, a == c, a is c)\n",
        "'''\n",
        "Python кэширует короткие строки (обычно строки, которые состоят только из\n",
        "буквенно-цифровых символов и имеют длину 1 или 2 символа). Это называется interning.\n",
        "\n",
        "Оператор == сравнивает значения объектов, а не их идентичность. Строки 'py'\n",
        "и ''.join(['p', 'y']) имеют одинаковое значение, поэтому a == c возвращает True.\n",
        "\n",
        "Метод ''.join(['p', 'y']) создаёт новую строку в памяти, даже если её значение\n",
        "совпадает с 'py'. Поэтому a и c — это разные объекты, и a is c возвращает False.\n",
        "'''"
      ]
    },
    {
      "cell_type": "markdown",
      "metadata": {
        "id": "xSdjyQK97ECq"
      },
      "source": [
        "**2.4.** (уровень сложности: средний)\n",
        "\n",
        "В следующем фрагменте по индексу i выбирается одна из трех строк. Сократите код во второй строке до 19 символов без использования функций и методов."
      ]
    },
    {
      "cell_type": "code",
      "execution_count": null,
      "metadata": {
        "id": "wj5gcpjG7ECr",
        "outputId": "24de715c-e624-4d09-d4c5-ef96d1280677"
      },
      "outputs": [
        {
          "data": {
            "text/plain": [
              "'much'"
            ]
          },
          "execution_count": 4,
          "metadata": {},
          "output_type": "execute_result"
        }
      ],
      "source": [
        "i = 0\n",
        "['much','code','wow'][i] # 24 символа"
      ]
    },
    {
      "cell_type": "code",
      "source": [
        "i = 2\n",
        "print('mcwuoocdwhe'[i::3])"
      ],
      "metadata": {
        "id": "LagdfBjKK2ME",
        "colab": {
          "base_uri": "https://localhost:8080/"
        },
        "outputId": "5ea02269-dcac-4518-caf4-6a068fae1835"
      },
      "execution_count": null,
      "outputs": [
        {
          "output_type": "stream",
          "name": "stdout",
          "text": [
            "wow\n"
          ]
        }
      ]
    },
    {
      "cell_type": "markdown",
      "metadata": {
        "id": "xToIEioD7ECs"
      },
      "source": [
        "**2.5.** (уровень сложности: средний)\n",
        "\n",
        "Объясните поведение приведенного ниже кода.\n",
        "\n",
        "```Python\n",
        "lst = ['a', 'b', 'c']\n",
        "lst += 'd'\n",
        "print(lst)\n",
        "\n",
        "lst = lst + 'd' # Ошибка?!\n",
        "print(lst)\n",
        "\n",
        "lst += 42\n",
        "print(lst) # Ошибка?!\n",
        "```"
      ]
    },
    {
      "cell_type": "code",
      "source": [
        "lst = ['a', 'b', 'c']\n",
        "lst += 'd'\n",
        "print(lst)\n",
        "\n",
        "lst = lst + 'd' # Ошибка?! Оператор + для списков ожидает, что оба операнда будут списками\n",
        "print(lst)\n",
        "\n",
        "lst += 42\n",
        "print(lst) # Ошибка?! Оператор += для списков ожидает итерируемый объект справа."
      ],
      "metadata": {
        "colab": {
          "base_uri": "https://localhost:8080/",
          "height": 228
        },
        "id": "bteB8QqHL9bx",
        "outputId": "3f135954-4bb4-48d1-a4d0-e1f8dbdfcbfc"
      },
      "execution_count": null,
      "outputs": [
        {
          "output_type": "stream",
          "name": "stdout",
          "text": [
            "['a', 'b', 'c', 'd']\n"
          ]
        },
        {
          "output_type": "error",
          "ename": "TypeError",
          "evalue": "can only concatenate list (not \"str\") to list",
          "traceback": [
            "\u001b[0;31m---------------------------------------------------------------------------\u001b[0m",
            "\u001b[0;31mTypeError\u001b[0m                                 Traceback (most recent call last)",
            "\u001b[0;32m<ipython-input-60-bb3e1190eab9>\u001b[0m in \u001b[0;36m<cell line: 0>\u001b[0;34m()\u001b[0m\n\u001b[1;32m      3\u001b[0m \u001b[0mprint\u001b[0m\u001b[0;34m(\u001b[0m\u001b[0mlst\u001b[0m\u001b[0;34m)\u001b[0m\u001b[0;34m\u001b[0m\u001b[0;34m\u001b[0m\u001b[0m\n\u001b[1;32m      4\u001b[0m \u001b[0;34m\u001b[0m\u001b[0m\n\u001b[0;32m----> 5\u001b[0;31m \u001b[0mlst\u001b[0m \u001b[0;34m=\u001b[0m \u001b[0mlst\u001b[0m \u001b[0;34m+\u001b[0m \u001b[0;34m'd'\u001b[0m \u001b[0;31m# Ошибка?!\u001b[0m\u001b[0;34m\u001b[0m\u001b[0;34m\u001b[0m\u001b[0m\n\u001b[0m\u001b[1;32m      6\u001b[0m \u001b[0mprint\u001b[0m\u001b[0;34m(\u001b[0m\u001b[0mlst\u001b[0m\u001b[0;34m)\u001b[0m\u001b[0;34m\u001b[0m\u001b[0;34m\u001b[0m\u001b[0m\n\u001b[1;32m      7\u001b[0m \u001b[0;34m\u001b[0m\u001b[0m\n",
            "\u001b[0;31mTypeError\u001b[0m: can only concatenate list (not \"str\") to list"
          ]
        }
      ]
    },
    {
      "cell_type": "markdown",
      "metadata": {
        "id": "UV88MZnFzEEU"
      },
      "source": [
        "## 3. Однострочники\n",
        "\n",
        "Напишите программы-однострочники для следующих задач. Начните с наивных решений и постепенно двигайтесь в сторону решений кратких и изящных. Старайтесь попутно создавать автоматические тесты на случайных входных данных.\n",
        "\n",
        "Определитесь, в каких случаях решение-однострочник является предпочтительным, а в каких – нет."
      ]
    },
    {
      "cell_type": "markdown",
      "metadata": {
        "id": "ZErQw2rizEEX"
      },
      "source": [
        "**3.1.** (уровень сложности: низкий)\n",
        "\n",
        "Преобразовать элементы списка s из строковой в числовую форму."
      ]
    },
    {
      "cell_type": "code",
      "execution_count": null,
      "metadata": {
        "id": "8kPItnKDzEEX",
        "outputId": "1665b1a3-644c-4062-c56f-ab4bd37b0043"
      },
      "outputs": [
        {
          "data": {
            "text/plain": [
              "[1, 2, 3, 4]"
            ]
          },
          "execution_count": 4,
          "metadata": {},
          "output_type": "execute_result"
        }
      ],
      "source": [
        "list(map(int, ['1', '2', '3', '4']))"
      ]
    },
    {
      "cell_type": "markdown",
      "metadata": {
        "id": "Uhx3SZhZzEEZ"
      },
      "source": [
        "**3.2.** (уровень сложности: низкий)\n",
        "\n",
        "Подсчитать количество различных элементов в последовательности s."
      ]
    },
    {
      "cell_type": "code",
      "execution_count": null,
      "metadata": {
        "id": "atkauzT5zEEa",
        "outputId": "05a284a5-9d04-4952-d5cd-22728b522a47"
      },
      "outputs": [
        {
          "name": "stdout",
          "output_type": "stream",
          "text": [
            " 1 2 3 3 2 1\n"
          ]
        },
        {
          "data": {
            "text/plain": [
              "3"
            ]
          },
          "execution_count": 6,
          "metadata": {},
          "output_type": "execute_result"
        }
      ],
      "source": [
        "len(set(input().split()))"
      ]
    },
    {
      "cell_type": "markdown",
      "metadata": {
        "id": "15mmkGc8zEEc"
      },
      "source": [
        "**3.3.** (уровень сложности: простейший)\n",
        "\n",
        "Обратить последовательность s без использования функций."
      ]
    },
    {
      "cell_type": "code",
      "execution_count": null,
      "metadata": {
        "id": "r4VCG6nSzEEd",
        "outputId": "2a407dc5-e80f-43a1-e58a-1833d9c3cd9e"
      },
      "outputs": [
        {
          "name": "stdout",
          "output_type": "stream",
          "text": [
            " 1 2 3 4 5\n"
          ]
        },
        {
          "data": {
            "text/plain": [
              "[5, 4, 3, 2, 1]"
            ]
          },
          "execution_count": 10,
          "metadata": {},
          "output_type": "execute_result"
        }
      ],
      "source": [
        "list(map(int, input().split()))[::-1]"
      ]
    },
    {
      "cell_type": "markdown",
      "metadata": {
        "id": "WuLJAitKzEEd"
      },
      "source": [
        "**3.4.** (уровень сложности: низкий)\n",
        "\n",
        "Выдать список индексов, на которых найден элемент x в последовательности s."
      ]
    },
    {
      "cell_type": "code",
      "execution_count": null,
      "metadata": {
        "id": "Of92lsA_zEEe",
        "outputId": "46adc6fd-0de6-455d-feb2-92823db8fa2a"
      },
      "outputs": [
        {
          "name": "stdout",
          "output_type": "stream",
          "text": [
            "Элемент который нужно найти:  1\n",
            " 1 2 3 4 1 2 5 7 1\n"
          ]
        },
        {
          "data": {
            "text/plain": [
              "[0, 4, 8]"
            ]
          },
          "execution_count": 13,
          "metadata": {},
          "output_type": "execute_result"
        }
      ],
      "source": [
        "n = int(input(\"Элемент который нужно найти: \"))\n",
        "[i for i, s in enumerate(input().split()) if int(s) == n]"
      ]
    },
    {
      "cell_type": "markdown",
      "metadata": {
        "id": "V5xTGBC-zEEg"
      },
      "source": [
        "**3.5.** (уровень сложности: низкий)\n",
        "\n",
        "Сложить элементы списка s с четными индексами."
      ]
    },
    {
      "cell_type": "code",
      "execution_count": null,
      "metadata": {
        "id": "k_2wOSxkzEEg",
        "outputId": "f9f79f3b-69f7-42fc-c4cf-fcd49c259ff5"
      },
      "outputs": [
        {
          "name": "stdout",
          "output_type": "stream",
          "text": [
            " 1 2 3 4 5\n"
          ]
        },
        {
          "data": {
            "text/plain": [
              "9"
            ]
          },
          "execution_count": 16,
          "metadata": {},
          "output_type": "execute_result"
        }
      ],
      "source": [
        "sum(list(map(int, input().split()))[::2])"
      ]
    },
    {
      "cell_type": "markdown",
      "metadata": {
        "id": "8GdmBh7TzEEh"
      },
      "source": [
        "**3.6.** (уровень сложности: низкий)\n",
        "\n",
        "Найти строку максимальной длины в списке строк s."
      ]
    },
    {
      "cell_type": "code",
      "execution_count": null,
      "metadata": {
        "id": "45GKu0w9zEEi",
        "outputId": "a0023146-00ed-4294-ddd6-cadcade8035c"
      },
      "outputs": [
        {
          "name": "stdout",
          "output_type": "stream",
          "text": [
            " hello abc dddd world!\n"
          ]
        },
        {
          "data": {
            "text/plain": [
              "'world!'"
            ]
          },
          "execution_count": 17,
          "metadata": {},
          "output_type": "execute_result"
        }
      ],
      "source": [
        "max(input().split(), key=len)"
      ]
    },
    {
      "cell_type": "markdown",
      "metadata": {
        "id": "xPrxzF9IzEEi"
      },
      "source": [
        "**3.7.** (уровень сложности: низкий)\n",
        "\n",
        "Проверить, относится ли число к числам харшад (делящиеся нацело на сумму своих цифр)."
      ]
    },
    {
      "cell_type": "code",
      "execution_count": null,
      "metadata": {
        "id": "vztTZFaizEEj",
        "outputId": "6957e07e-6345-4e4d-af5c-7f763619f8c1"
      },
      "outputs": [
        {
          "name": "stdout",
          "output_type": "stream",
          "text": [
            " 18\n"
          ]
        },
        {
          "data": {
            "text/plain": [
              "True"
            ]
          },
          "execution_count": 56,
          "metadata": {},
          "output_type": "execute_result"
        }
      ],
      "source": [
        "n = int(input())\n",
        "n % sum([int(i) for i in str(n)]) == 0"
      ]
    },
    {
      "cell_type": "markdown",
      "metadata": {
        "id": "wQ3n8Br2zEEj"
      },
      "source": [
        "**3.8.** (уровень сложности: низкий)\n",
        "\n",
        "Сгенерировать случайную текстовую строку с заданным максимальным размером."
      ]
    },
    {
      "cell_type": "code",
      "execution_count": null,
      "metadata": {
        "id": "oQg7hWc8zEEk",
        "outputId": "cb104495-e052-47fa-c799-24d800a67ad4"
      },
      "outputs": [
        {
          "name": "stdout",
          "output_type": "stream",
          "text": [
            "Размер:  12\n"
          ]
        },
        {
          "name": "stdout",
          "output_type": "stream",
          "text": [
            "LLLWGIFSQZGV\n"
          ]
        }
      ],
      "source": [
        "from random import choice\n",
        "from string import ascii_uppercase\n",
        "print(''.join(choice(ascii_uppercase) for i in range(int(input(\"Размер: \")))))"
      ]
    },
    {
      "cell_type": "markdown",
      "metadata": {
        "id": "xN3zNolBzEEk"
      },
      "source": [
        "**3.9.** (уровень сложности: средний)\n",
        "\n",
        "Реализовать функцию-однострочник для RLE-сжатия. Пример работы:\n",
        "\n",
        "```Python\n",
        ">>> rle_encode('ABBCCCDEF')\n",
        "[('A', 1), ('B', 2), ('C', 3), ('D', 1), ('E', 1), ('F', 1)]\n",
        "```"
      ]
    },
    {
      "cell_type": "code",
      "execution_count": null,
      "metadata": {
        "id": "1Me12Q5BzEEk",
        "outputId": "2c137c60-9ea9-433e-80b0-8d7adba07985"
      },
      "outputs": [
        {
          "data": {
            "text/plain": [
              "[('A', 1), ('B', 2), ('C', 3), ('D', 1), ('E', 1), ('F', 1)]"
            ]
          },
          "execution_count": 49,
          "metadata": {},
          "output_type": "execute_result"
        }
      ],
      "source": [
        "from itertools import groupby\n",
        "def rle_encode(s):\n",
        "    return [(i, len(list(j))) for i, j in groupby(s)]\n",
        "rle_encode('ABBCCCDEF')"
      ]
    },
    {
      "cell_type": "markdown",
      "metadata": {
        "id": "uFCh7wzwzEEl"
      },
      "source": [
        "## 4. Ассорти из небольших задач"
      ]
    },
    {
      "cell_type": "markdown",
      "metadata": {
        "id": "4qd4Hc2rzEEl"
      },
      "source": [
        "**4.1.** (уровень сложности: низкий)\n",
        "\n",
        "Напишите функцию generate_groups(), которая компактно генерирует (а не просто выдает готовый) список всех названий групп в том виде, который используется на сайте ЦАП.\n",
        "\n",
        "```Python\n",
        "['ИВБО-01-21', 'ИВБО-02-21', 'ИВБО-03-21', 'ИВБО-04-21', 'ИВБО-05-21', 'ИВБО-06-21', 'ИВБО-07-21', 'ИВБО-08-21', 'ИКБО-01-21', 'ИКБО-02-21', ...]\n",
        "```"
      ]
    },
    {
      "cell_type": "code",
      "execution_count": null,
      "metadata": {
        "id": "mIfbV1ckzEEl",
        "outputId": "29f1b8e0-c4a9-473f-d079-f4363a42facf"
      },
      "outputs": [
        {
          "name": "stdout",
          "output_type": "stream",
          "text": [
            "ИВБО\n",
            "ИВБО-10-23 ИВБО-11-23 ИВБО-12-23 ИВБО-13-23\n",
            "\n",
            "ИКБО\n",
            "ИКБО-10-23 ИКБО-11-23 ИКБО-12-23 ИКБО-13-23 ИКБО-14-23 ИКБО-15-23 ИКБО-20-23 ИКБО-21-23 ИКБО-22-23 ИКБО-24-23 ИКБО-34-23 ИКБО-40-23 ИКБО-41-23 ИКБО-42-23 ИКБО-43-23 ИКБО-50-23 ИКБО-51-23 ИКБО-52-23 ИКБО-60-23 ИКБО-61-23 ИКБО-62-23 ИКБО-63-23 ИКБО-64-23 ИКБО-65-23 ИКБО-66-23 ИКБО-67-23 ИКБО-68-23 ИКБО-69-23 ИКБО-70-23 ИКБО-71-23 ИКБО-72-23 ИКБО-73-23 ИКБО-74-23 ИКБО-75-23 ИКБО-76-23\n",
            "\n",
            "ИМБО\n",
            "ИМБО-10-23 ИМБО-11-23\n",
            "\n",
            "ИНБО\n",
            "ИНБО-10-23 ИНБО-11-23 ИНБО-12-23 ИНБО-13-23 ИНБО-20-23 ИНБО-21-23 ИНБО-22-23 ИНБО-23-23 ИНБО-30-23 ИНБО-31-23 ИНБО-32-23 ИНБО-33-23\n",
            "\n"
          ]
        }
      ],
      "source": [
        "def generate_groups():\n",
        "    groups = {\n",
        "        \"ИВБО\": range(10, 14),\n",
        "        \"ИКБО\": list(range(10, 16)) + list(range(20, 23)) + [24, 34] + list(range(40, 44)) +\n",
        "                list(range(50, 53)) + list(range(60, 72)) + list(range(72, 77)),\n",
        "        \"ИМБО\": range(10, 12),\n",
        "        \"ИНБО\": list(range(10, 14)) + list(range(20, 24)) + list(range(30, 34))\n",
        "    }\n",
        "\n",
        "    year_suffix = \"-23\"\n",
        "\n",
        "    for prefix, numbers in groups.items():\n",
        "        yield prefix\n",
        "        yield \" \".join(f\"{prefix}-{num}{year_suffix}\" for num in numbers)\n",
        "        yield \"\"\n",
        "\n",
        "for line in generate_groups():\n",
        "    print(line)"
      ]
    },
    {
      "cell_type": "markdown",
      "metadata": {
        "id": "OJSEaXzvzEEm"
      },
      "source": [
        "**4.2.** (уровень сложности: низкий)\n",
        "\n",
        "Реализуйте свою версию print(). Постарайтесь использовать максимум возможностей настоящей print(). Для вывода используйте функцию sys.stdout.write()."
      ]
    },
    {
      "cell_type": "code",
      "execution_count": null,
      "metadata": {
        "id": "c_pUvnBJzEEm",
        "outputId": "87270499-80fe-45b7-e0b4-bf2d971f2930"
      },
      "outputs": [
        {
          "name": "stdout",
          "output_type": "stream",
          "text": [
            "hello world"
          ]
        }
      ],
      "source": [
        "import sys\n",
        "def myPrint(*args, sep=' ', end='\\n'):\n",
        "    output = sep.join(map(str, args)) + end\n",
        "\n",
        "    sys.stdout.write(output)\n",
        "\n",
        "myPrint(\"hello\", \"world\", sep='//', end=\"&&\")"
      ]
    },
    {
      "cell_type": "markdown",
      "metadata": {
        "id": "9fArwbCuzEEn"
      },
      "source": [
        "**4.3.** (уровень сложности: средний)\n",
        "\n",
        "Вы получили зашифрованное сообщение и теперь предстоит его расшифровать:\n",
        "\n",
        "```\n",
        "E3238557 6204A1F8 E6537611 174E5747\n",
        "5D954DA8 8C2DFE97 2911CB4C 2CB7C66B\n",
        "E7F185A0 C7E3FA40 42419867 374044DF\n",
        "2519F07D 5A0C24D4 F4A960C5 31159418\n",
        "F2768EC7 AEAF14CF 071B2C95 C9F22699\n",
        "FFB06F41 2AC90051 A53F035D 830601A7\n",
        "EB475702 183BAA6F 12626744 9B75A72F\n",
        "8DBFBFEC 73C1A46E FFB06F41 2AC90051\n",
        "97C5E4E9 B1C26A21 DD4A3463 6B71162F\n",
        "8C075668 7975D565 6D95A700 7272E637\n",
        "```\n",
        "\n",
        "Известно, что для зашифрования использовался алгоритм TEA. Известен также ключ зашифрования/расшифрования:\n",
        "\n",
        "```\n",
        "k = [0, 4, 5, 1]\n",
        "```\n",
        "\n",
        "Имеется и функция на C/C++ для расшифровки данных (v – слова данных, k – ключ):\n",
        "\n",
        "```C\n",
        "void decrypt(uint32_t v[2], const uint32_t k[4]) {\n",
        "    uint32_t v0 = v[0], v1 = v[1], sum = 0xC6EF3720, i;\n",
        "    uint32_t delta = 0x9E3779B9;\n",
        "    uint32_t k0 = k[0], k1 = k[1], k2 = k[2], k3 = k[3];\n",
        "    for (i = 0; i < 32; i++) {\n",
        "        v1 -= ((v0 << 4) + k2) ^ (v0 + sum) ^ ((v0 >> 5) + k3);\n",
        "        v0 -= ((v1 << 4) + k0) ^ (v1 + sum) ^ ((v1 >> 5) + k1);\n",
        "        sum -= delta;\n",
        "    }\n",
        "    v[0] = v0; v[1] = v1;\n",
        "}\n",
        "```\n",
        "\n",
        "Остается перевести функцию decrypt на Питон и узнать, что же содержится в зашифрованном сообщении!"
      ]
    },
    {
      "cell_type": "code",
      "execution_count": null,
      "metadata": {
        "id": "4Lx_xOtYzEEo",
        "outputId": "7335c909-6da7-46d4-e83b-97eeee053e6a"
      },
      "outputs": [
        {
          "name": "stdout",
          "output_type": "stream",
          "text": [
            "Расшифрованное сообщение:\n",
            "П\u0000о\u0000з\u0000д\u0000р\u0000а\u0000в\u0000л\u0000я\u0000ю\u0000!\u0000 \u0000В\u0000ы\u0000 \u0000н\u0000а\u0000ш\u0000л\u0000и\u0000 \u0000с\u0000е\u0000к\u0000р\u0000е\u0000т\u0000н\u0000о\u0000е\u0000 \u0000с\u0000о\u0000о\u0000б\u0000щ\u0000е\u0000н\u0000и\u0000е\u0000\n"
          ]
        }
      ],
      "source": [
        "def tea_decrypt(v, k):\n",
        "    v0, v1 = v[0], v[1]\n",
        "    sum_value = 0xC6EF3720\n",
        "    delta = 0x9E3779B9\n",
        "\n",
        "    k0, k1, k2, k3 = k[0], k[1], k[2], k[3]\n",
        "\n",
        "    for _ in range(32):\n",
        "        v1 -= ((v0 << 4) + k2) ^ (v0 + sum_value) ^ ((v0 >> 5) + k3)\n",
        "        v1 &= 0xFFFFFFFF\n",
        "        v0 -= ((v1 << 4) + k0) ^ (v1 + sum_value) ^ ((v1 >> 5) + k1)\n",
        "        v0 &= 0xFFFFFFFF\n",
        "        sum_value -= delta\n",
        "        sum_value &= 0xFFFFFFFF\n",
        "\n",
        "    return [v0, v1]\n",
        "\n",
        "key = [0, 4, 5, 1]\n",
        "\n",
        "encrypted_blocks = [\n",
        "    [0xE3238557, 0x6204A1F8], [0xE6537611, 0x174E5747],\n",
        "    [0x5D954DA8, 0x8C2DFE97], [0x2911CB4C, 0x2CB7C66B],\n",
        "    [0xE7F185A0, 0xC7E3FA40], [0x42419867, 0x374044DF],\n",
        "    [0x2519F07D, 0x5A0C24D4], [0xF4A960C5, 0x31159418],\n",
        "    [0xF2768EC7, 0xAEAF14CF], [0x071B2C95, 0xC9F22699],\n",
        "    [0xFFB06F41, 0x2AC90051], [0xA53F035D, 0x830601A7],\n",
        "    [0xEB475702, 0x183BAA6F], [0x12626744, 0x9B75A72F],\n",
        "    [0x8DBFBFEC, 0x73C1A46E], [0xFFB06F41, 0x2AC90051],\n",
        "    [0x97C5E4E9, 0xB1C26A21], [0xDD4A3463, 0x6B71162F],\n",
        "    [0x8C075668, 0x7975D565], [0x6D95A700, 0x7272E637]\n",
        "]\n",
        "\n",
        "decrypted_blocks = []\n",
        "for block in encrypted_blocks:\n",
        "    decrypted_block = tea_decrypt(block, key)\n",
        "    decrypted_blocks.append(decrypted_block)\n",
        "\n",
        "decrypted_bytes = bytearray()\n",
        "for block in decrypted_blocks:\n",
        "    for word in block:\n",
        "        decrypted_bytes.extend(word.to_bytes(4, 'little'))\n",
        "\n",
        "decrypted_text = decrypted_bytes.decode('utf-16')\n",
        "print(\"Расшифрованное сообщение:\")\n",
        "print(decrypted_text)"
      ]
    },
    {
      "cell_type": "markdown",
      "metadata": {
        "id": "aCQDUFqMzEEo"
      },
      "source": [
        "## 5. Редакционное расстояние"
      ]
    },
    {
      "cell_type": "markdown",
      "metadata": {
        "id": "JXuZOr_4zEEo"
      },
      "source": [
        "**5.1.** (уровень сложности: низкий)\n",
        "\n",
        "Редакционное расстояние Хэмминга определяет минимальное число позиций, в которых нужно произвести замену символов, чтобы получить из одной последовательности длины n другую последовательность той же длины.\n",
        "\n",
        "Реализуйте функцию вычисления расстояния Хэмминга для двух чисел, на уровне замен бит.\n",
        "\n",
        "Реализуйте сначала наивную версию, а затем придумайте, как изящно написать функцию в виде однострочника с использованием средств современного Питона.\n",
        "\n",
        "Примеры работы функции:\n",
        "\n",
        "```Python\n",
        ">>> ham_dist(0b10, 0b11)\n",
        "1\n",
        ">>> ham_dist(0b1100, 0b0011)\n",
        "4\n",
        "```"
      ]
    },
    {
      "cell_type": "code",
      "execution_count": null,
      "metadata": {
        "id": "Ye1W7Yc-zEEp",
        "outputId": "2b5ad30f-275d-4295-d746-153705a1d0de"
      },
      "outputs": [
        {
          "name": "stdout",
          "output_type": "stream",
          "text": [
            "4\n"
          ]
        }
      ],
      "source": [
        "def ham_dist(b1, b2):\n",
        "    b1_bin = bin(b1)[2:]\n",
        "    b2_bin = bin(b2)[2:]\n",
        "\n",
        "    max_len = max(len(b1_bin), len(b2_bin))\n",
        "    b1_bin = b1_bin.zfill(max_len)\n",
        "    b2_bin = b2_bin.zfill(max_len)\n",
        "\n",
        "    dist_counter = 0\n",
        "    for i in range(max_len):\n",
        "        if b1_bin[i] != b2_bin[i]:\n",
        "            dist_counter += 1\n",
        "\n",
        "    return dist_counter\n",
        "\n",
        "print(ham_dist(0b1100, 0b0011))"
      ]
    },
    {
      "cell_type": "code",
      "execution_count": null,
      "metadata": {
        "id": "BGB7EBpHzEEp",
        "outputId": "e28a6856-5dfd-4d7f-9b07-251895669f11"
      },
      "outputs": [
        {
          "name": "stdout",
          "output_type": "stream",
          "text": [
            "1\n"
          ]
        }
      ],
      "source": [
        "def ham_dist(b1, b2):\n",
        "    return sum(c1 != c2 for c1, c2 in zip(f'{b1:b}'.zfill(32), f'{b2:b}'.zfill(32)))\n",
        "print(ham_dist(0b10, 0b11))"
      ]
    },
    {
      "cell_type": "markdown",
      "metadata": {
        "id": "bnJuUpIXzEEp"
      },
      "source": [
        "**5.2.** (уровень сложности: средний)\n",
        "\n",
        "Простейшим вариантом кода с коррекцией ошибок является код с повторением. В рассматриваемом далее случае каждый передаваемый бит со значением 1/0 представляется тройкой бит 111/000.\n",
        "\n",
        "Примеры:\n",
        "\n",
        "```Python\n",
        ">>> bin(encode_val(4, 3, 0b1011))\n",
        "'0b111000111111'\n",
        ">>> bin(decode_val(4, 3, 0b111_000_111_111))\n",
        "'0b1011'\n",
        "```\n",
        "\n",
        "Если два исходных значения отличаются лишь в одном бите, то их закодированные варианты имеют расстояние Хэмминга равное 3:\n",
        "\n",
        "```Python\n",
        ">>> ham_dist(encode_val(4, 3, 0b1001), encode_val(4, 3, 0b1000))\n",
        "3\n",
        "```\n",
        "\n",
        "Это позволяет автоматически исправлять внесенные помехи в данные в зависимости от того значения, которое является преобладающим в тройке бит.\n",
        "ф\n",
        "```Python\n",
        "bin(decode_val(4, 3, 0b110_010_011_101))\n",
        "'0b1011'\n",
        "```\n",
        "\n",
        "Задача состоит в том, чтобы корректно декодировать и откорректировать следующее текстовое сообщение. Известно, что каждое значение в исходной последовательности является 8-битным.\n",
        "\n",
        "```Python\n",
        "[815608, 2064837, 2093080, 2063879, 196608, 2067983, 10457031, 1830912, 2067455, 2093116, 1044928, 2064407, 6262776, 2027968, 4423680, 2068231, 2068474, 1999352, 1019903, 2093113, 2068439, 2064455, 1831360, 1936903, 2067967, 2068456]\n",
        "```"
      ]
    },
    {
      "cell_type": "code",
      "execution_count": null,
      "metadata": {
        "id": "B09FTkNUzEEp",
        "outputId": "46907c5f-4925-4fbb-f7d4-c6beb9a2b639"
      },
      "outputs": [
        {
          "name": "stdout",
          "output_type": "stream",
          "text": [
            "Very important information\n"
          ]
        }
      ],
      "source": [
        "def encode_val(n_bits, rep, value):\n",
        "    result = 0\n",
        "    for i in reversed(range(n_bits)):\n",
        "        bit = (value >> i) & 1\n",
        "        for _ in range(rep):\n",
        "            result = (result << 1) | bit\n",
        "    return result\n",
        "\n",
        "def decode_val(n_bits, rep, value):\n",
        "    result = 0\n",
        "    total_bits = n_bits * rep\n",
        "    for i in range(n_bits):\n",
        "        triple = (value >> (total_bits - (i + 1) * rep)) & ((1 << rep) - 1)\n",
        "        ones = bin(triple).count('1')\n",
        "        result = (result << 1) | (1 if ones >= (rep // 2 + 1) else 0)\n",
        "    return result\n",
        "\n",
        "def ham_dist(a, b):\n",
        "    return bin(a ^ b).count('1')\n",
        "\n",
        "encoded_data = [\n",
        "    815608, 2064837, 2093080, 2063879, 196608, 2067983, 10457031,\n",
        "    1830912, 2067455, 2093116, 1044928, 2064407, 6262776, 2027968,\n",
        "    4423680, 2068231, 2068474, 1999352, 1019903, 2093113, 2068439,\n",
        "    2064455, 1831360, 1936903, 2067967, 2068456\n",
        "]\n",
        "\n",
        "n_bits = 8\n",
        "rep = 3\n",
        "\n",
        "decoded_bytes = [decode_val(n_bits, rep, val) for val in encoded_data]\n",
        "\n",
        "decoded_message = ''.join(chr(b) for b in decoded_bytes)\n",
        "print(decoded_message)\n"
      ]
    },
    {
      "cell_type": "markdown",
      "metadata": {
        "id": "fv6qNIFjzEEp"
      },
      "source": [
        "**5.3.** (уровень сложности: низкий)\n",
        "\n",
        "Советский и российский математик Владимир Иосифович Левенштейн в 1965 г. [предложил](https://www.mathnet.ru/links/5544b02ca719f9e5e3bf19cbd811dae2/dan31411.pdf) свой вариант редакционного расстояния. В расстоянии Левенштейна учитываются не только замены символов, но также операции вставки и удаления. То есть, в отличие от расстояния Хэмминга, с помощью расстояния Левенштейна можно сравнивать последовательности с разными длинами.\n",
        "\n",
        "Расстояние Левенштейна можно определить с помощью рекуррентной формулы (за формулировку спасибо Горчакову А.В.):\n",
        "\n",
        "$$\n",
        "f\\left(\\mathbf{a}, \\mathbf{b}, i, j\\right)=\\left\\{\n",
        "    {\\begin{array}\n",
        "        {llcl}\n",
        "        \\max\\left(i, j\\right),&&&i=0\\ или\\ j=0\\\\\n",
        "        f(\\mathbf{a}, \\mathbf{b}, i-1, j-1),&&&a_{i-1}=b_{j-1}\\\\\n",
        "        1 + \\min\\left(\n",
        "            f\\left(\\mathbf{a}, \\mathbf{b}, i, j-1\\right),\n",
        "            f\\left(\\mathbf{a}, \\mathbf{b}, i-1,j\\right),\n",
        "            f\\left(\\mathbf{a}, \\mathbf{b}, i-1,j-1\\right)\n",
        "        \\right),&&&иначе\n",
        "    \\end{array}\n",
        "}\\right.\n",
        "$$\n",
        "\n",
        "где $\\mathbf{a}$ и $\\mathbf{b}$ — сравниваемые последовательности символов, например, строки;  \n",
        "$i$ и $j$ — индексы последовательностей;  \n",
        "$a_{i-1}$ — $(i-1)$-й символ в строке $\\mathbf{a}$;  \n",
        "$b_{j-1}$ — $(j-1)$-й символ в строке $\\mathbf{b}$.\n",
        "\n",
        "Реализуйте функцию вычисления расстояния Левенштейна.\n",
        "\n",
        "Пример работы:\n",
        "\n",
        "```Python\n",
        ">>> lev_dist('столб', 'слон')\n",
        "3\n",
        "```\n",
        "\n",
        "Для ускорения работы реализованной функции используйте «волшебный» декоратор «cache»:\n",
        "\n",
        "```Python\n",
        "from functools import cache\n",
        "\n",
        "@cache\n",
        "def lev_dist(...):\n",
        "    ...\n",
        "```\n"
      ]
    },
    {
      "cell_type": "code",
      "execution_count": null,
      "metadata": {
        "id": "ZTKFvwwqzEEq",
        "outputId": "b5af7388-9800-417c-9d91-7c815bfe8965"
      },
      "outputs": [
        {
          "name": "stdout",
          "output_type": "stream",
          "text": [
            "3\n"
          ]
        }
      ],
      "source": [
        "from functools import lru_cache\n",
        "\n",
        "@lru_cache\n",
        "def lev_dist(a: str, b: str, i: int = None, j: int = None) -> int:\n",
        "    if i is None: i = len(a)\n",
        "    if j is None: j = len(b)\n",
        "\n",
        "    if i == 0 or j == 0:\n",
        "        return max(i, j)\n",
        "\n",
        "    if a[i - 1] == b[j - 1]:\n",
        "        return lev_dist(a, b, i - 1, j - 1)\n",
        "\n",
        "    return 1 + min(\n",
        "        lev_dist(a, b, i, j - 1),\n",
        "        lev_dist(a, b, i - 1, j),\n",
        "        lev_dist(a, b, i - 1, j - 1)\n",
        "    )\n",
        "\n",
        "print(lev_dist('столб', 'слон'))"
      ]
    },
    {
      "cell_type": "markdown",
      "metadata": {
        "id": "r9p4DLb0zEEq"
      },
      "source": [
        "**5.4.** (уровень сложности: средний)\n",
        "\n",
        "Реализованная функция вычисления расстояния Левенштейна дает только миниальное число операций. Было бы полезно узнать, какие именно операции произведены над исходной строкой.\n",
        "\n",
        "Например:\n",
        "\n",
        "```Python\n",
        ">>> lev_dist_ops('столб', 'слон')\n",
        "['замена', 'удаление', 'замена']\n",
        "```\n",
        "\n",
        "Реализуйте функцию lev_dist_ops.\n"
      ]
    },
    {
      "cell_type": "code",
      "execution_count": null,
      "metadata": {
        "id": "rV9cHKw0zEEq",
        "outputId": "4ed06716-9df7-4a89-bd28-8c38aafc4285"
      },
      "outputs": [
        {
          "data": {
            "text/plain": [
              "['замена', 'замена', 'удаление']"
            ]
          },
          "execution_count": 26,
          "metadata": {},
          "output_type": "execute_result"
        }
      ],
      "source": [
        "from functools import lru_cache\n",
        "\n",
        "def lev_dist_ops(a: str, b: str) -> list:\n",
        "    @lru_cache(maxsize=None)\n",
        "    def helper(i: int, j: int):\n",
        "        if i == 0 and j == 0:\n",
        "            return (0, [])\n",
        "        if i == 0:\n",
        "            return (j, ['вставка'] * j)\n",
        "        if j == 0:\n",
        "            return (i, ['удаление'] * i)\n",
        "\n",
        "        if a[i - 1] == b[j - 1]:\n",
        "            dist, ops = helper(i - 1, j - 1)\n",
        "            return (dist, ops.copy())\n",
        "\n",
        "        dist_ins, ops_ins = helper(i, j - 1)\n",
        "        dist_del, ops_del = helper(i - 1, j)\n",
        "        dist_sub, ops_sub = helper(i - 1, j - 1)\n",
        "\n",
        "        min_dist = min(dist_ins, dist_del, dist_sub)\n",
        "\n",
        "        if min_dist == dist_ins:\n",
        "            ops = ops_ins.copy()\n",
        "            ops.append('вставка')\n",
        "            return (dist_ins + 1, ops)\n",
        "        elif min_dist == dist_del:\n",
        "            ops = ops_del.copy()\n",
        "            ops.append('удаление')\n",
        "            return (dist_del + 1, ops)\n",
        "        else:\n",
        "            ops = ops_sub.copy()\n",
        "            ops.append('замена')\n",
        "            return (dist_sub + 1, ops)\n",
        "\n",
        "    distance, operations = helper(len(a), len(b))\n",
        "    return operations\n",
        "\n",
        "lev_dist_ops('столб', 'слон')"
      ]
    },
    {
      "cell_type": "markdown",
      "metadata": {
        "id": "3gRdDtpIzEEr"
      },
      "source": [
        "**5.5.** (уровень сложности: средний)\n",
        "\n",
        "С использованием функции расстояния Левенштейна можно получить последовательность команд редактирования, которые превращают исходную последовательность в результат. Это может помочь компактно хранить данные – для измененной версии файла мы храним только команды, которые производят эти изменения. В этой задаче необходимо сгенерировать код на Питоне, который из исходного списка создает список-результат с помощью минимального числа операций вставки, замены и удаления.\n",
        "\n",
        "Например:\n",
        "\n",
        "```Python\n",
        ">>> print('\\n'.join(lev_dist_gen('достаток', 'остаточный')))\n",
        "x[7] = y[9]\n",
        "x.insert(7, y[8])\n",
        "x.insert(7, y[7])\n",
        "x.insert(7, y[6])\n",
        "del x[0]\n",
        "```\n",
        "\n",
        "Обязательно добавьте тестирование на случайных данных для функции lev_dist_gen."
      ]
    },
    {
      "cell_type": "code",
      "execution_count": null,
      "metadata": {
        "id": "4PsonaH3zEEs",
        "outputId": "df675e8d-f3ae-4467-85ff-73812bde0afc"
      },
      "outputs": [
        {
          "name": "stdout",
          "output_type": "stream",
          "text": [
            "x: ViqTIA, y: QKyNeifxhA\n",
            "Commands:\n",
            "x[0] = y[0]\n",
            "x.insert(1, y[1])\n",
            "x.insert(1, y[2])\n",
            "x.insert(1, y[3])\n",
            "x.insert(1, y[4])\n",
            "x[2] = y[6]\n",
            "x[3] = y[7]\n",
            "x[4] = y[8]\n",
            "\n",
            "x: XIU, y: kCVGg\n",
            "Commands:\n",
            "x[0] = y[0]\n",
            "x[1] = y[1]\n",
            "x[2] = y[2]\n",
            "x.insert(3, y[3])\n",
            "x.insert(3, y[4])\n",
            "\n",
            "x: VdsjRkPY, y: JJjaoxk\n",
            "Commands:\n",
            "x[0] = y[0]\n",
            "x[1] = y[1]\n",
            "del x[2]\n",
            "x[4] = y[3]\n",
            "x[5] = y[4]\n",
            "x[6] = y[5]\n",
            "x[7] = y[6]\n",
            "\n",
            "x: TaBcyvw, y: sOYvM\n",
            "Commands:\n",
            "x[0] = y[0]\n",
            "x[1] = y[1]\n",
            "x[2] = y[2]\n",
            "del x[3]\n",
            "del x[4]\n",
            "x[6] = y[4]\n",
            "\n",
            "x: YalN, y: sSJePbhI\n",
            "Commands:\n",
            "x[0] = y[0]\n",
            "x[1] = y[1]\n",
            "x[2] = y[2]\n",
            "x[3] = y[3]\n",
            "x.insert(4, y[4])\n",
            "x.insert(4, y[5])\n",
            "x.insert(4, y[6])\n",
            "x.insert(4, y[7])\n",
            "\n"
          ]
        }
      ],
      "source": [
        "from functools import lru_cache\n",
        "\n",
        "import random\n",
        "import string\n",
        "\n",
        "\n",
        "def lev_dist_gen(x: str, y: str) -> list:\n",
        "    @lru_cache(maxsize=None)\n",
        "    def helper(i: int, j: int):\n",
        "        if i == 0 and j == 0:\n",
        "            return (0, [])\n",
        "        if i == 0:\n",
        "            return (j, [f\"x.insert(0, y[{k}])\" for k in range(j-1, -1, -1)])\n",
        "        if j == 0:\n",
        "            return (i, [f\"del x[0]\" for _ in range(i)])\n",
        "\n",
        "        if x[i - 1] == y[j - 1]:\n",
        "            dist, ops = helper(i - 1, j - 1)\n",
        "            return (dist, ops.copy())\n",
        "\n",
        "        dist_ins, ops_ins = helper(i, j - 1)\n",
        "        dist_del, ops_del = helper(i - 1, j)\n",
        "        dist_sub, ops_sub = helper(i - 1, j - 1)\n",
        "\n",
        "        min_dist = min(dist_ins, dist_del, dist_sub)\n",
        "\n",
        "        if min_dist == dist_ins:\n",
        "            ops = ops_ins.copy()\n",
        "            ops.append(f\"x.insert({i}, y[{j-1}])\")\n",
        "            return (dist_ins + 1, ops)\n",
        "        elif min_dist == dist_del:\n",
        "            ops = ops_del.copy()\n",
        "            ops.append(f\"del x[{i-1}]\")\n",
        "            return (dist_del + 1, ops)\n",
        "        else:\n",
        "            ops = ops_sub.copy()\n",
        "            ops.append(f\"x[{i-1}] = y[{j-1}]\")\n",
        "            return (dist_sub + 1, ops)\n",
        "\n",
        "    _, operations = helper(len(x), len(y))\n",
        "    return operations\n",
        "\n",
        "def random_string(length):\n",
        "    return ''.join(random.choice(string.ascii_letters) for _ in range(length))\n",
        "\n",
        "def test_lev_dist_gen():\n",
        "    for _ in range(5):\n",
        "        x = random_string(random.randint(3, 10))\n",
        "        y = random_string(random.randint(3, 10))\n",
        "        print(f\"x: {x}, y: {y}\")\n",
        "        commands = lev_dist_gen(x, y)\n",
        "        print(\"Commands:\")\n",
        "        print('\\n'.join(commands))\n",
        "        print()\n",
        "\n",
        "test_lev_dist_gen()"
      ]
    },
    {
      "cell_type": "markdown",
      "metadata": {
        "id": "oZJZwzR0zEEs"
      },
      "source": [
        "**5.6.** (уровень сложности: средний)\n",
        "\n",
        "Реализуйте простую систему проверки орфографии с помощью функции вычисления расстояния Левенштейна. Для работы потребуется [словарь русских слов с указанием частот встречаемости](data/words.txt).\n",
        "\n",
        "Воспользуйтесь следующим методом:\n",
        "\n",
        "1. Если слово найдено в словаре, то возвращаем его.\n",
        "1. Если слово найдено среди словарных слов с расстоянием Левенштейна **равным 1**, то возвращаем самое популярное среди найденных слов.\n",
        "1. Если слово найдено среди словарных слов с расстоянием Левенштейна **равным 2**, то возвращаем самое популярное среди найденных слов.\n",
        "1. Если слово не найдено в словаре, то возвращаем его.\n",
        "\n",
        "Пример работы:\n",
        "\n",
        "```Python\n",
        ">>> spell('помоему я напесал усё правильна')\n",
        "по-моему я написал всё правильно\n",
        "```"
      ]
    },
    {
      "cell_type": "code",
      "execution_count": null,
      "metadata": {
        "id": "rm6nbW0hzEEt",
        "outputId": "bb913637-056a-4777-d575-ba2f11740640"
      },
      "outputs": [
        {
          "name": "stdout",
          "output_type": "stream",
          "text": [
            "помоему я напесал усё правильна\n"
          ]
        }
      ],
      "source": [
        "from functools import lru_cache\n",
        "\n",
        "def load_dictionary(file_path):\n",
        "    dictionary = {}\n",
        "    with open(file_path, 'r', encoding='utf-8') as file:\n",
        "        for line in file:\n",
        "            word, freq = line.strip().split()\n",
        "            dictionary[word] = int(freq)\n",
        "    return dictionary\n",
        "\n",
        "dictionary = load_dictionary('data/words.txt')\n",
        "\n",
        "@lru_cache(maxsize=None)\n",
        "def levenshtein_distance(s1, s2):\n",
        "    if len(s1) < len(s2):\n",
        "        return levenshtein_distance(s2, s1)\n",
        "    if len(s2) == 0:\n",
        "        return len(s1)\n",
        "\n",
        "    previous_row = range(len(s2) + 1)\n",
        "    for i, c1 in enumerate(s1):\n",
        "        current_row = [i + 1]\n",
        "        for j, c2 in enumerate(s2):\n",
        "            insertions = previous_row[j + 1] + 1\n",
        "            deletions = current_row[j] + 1\n",
        "            substitutions = previous_row[j] + (c1 != c2)\n",
        "            current_row.append(min(insertions, deletions, substitutions))\n",
        "        previous_row = current_row\n",
        "    return previous_row[-1]\n",
        "\n",
        "def find_closest_words(word, max_distance=2):\n",
        "    closest_words = []\n",
        "    for dict_word in dictionary:\n",
        "        distance = levenshtein_distance(word, dict_word)\n",
        "        if distance <= max_distance:\n",
        "            closest_words.append((dict_word, dictionary[dict_word], distance))\n",
        "\n",
        "    if not closest_words:\n",
        "        return None\n",
        "\n",
        "    closest_words.sort(key=lambda x: (x[2], -x[1]))\n",
        "    return closest_words[0][0]\n",
        "\n",
        "def spell_check_word(word):\n",
        "    if word in dictionary:\n",
        "        return word\n",
        "\n",
        "    closest_word = find_closest_words(word, 1)\n",
        "    if closest_word:\n",
        "        return closest_word\n",
        "\n",
        "    closest_word = find_closest_words(word, 2)\n",
        "    if closest_word:\n",
        "        return closest_word\n",
        "\n",
        "    return word\n",
        "\n",
        "def spell(sentence):\n",
        "    words = sentence.split()\n",
        "    corrected_words = []\n",
        "    for word in words:\n",
        "        corrected_word = spell_check_word(word.lower())\n",
        "        corrected_words.append(corrected_word)\n",
        "    return ' '.join(corrected_words)\n",
        "\n",
        "print(spell('помоему я напесал усё правильна'))"
      ]
    },
    {
      "cell_type": "markdown",
      "metadata": {
        "id": "nvdc41arzEEt"
      },
      "source": [
        "**5.7.** (уровень сложности: высокий)\n",
        "\n",
        "Доработайте систему проверки орфографии с помощью модифицированной функции расстояния Левенштейна, в которой учитываются:\n",
        "\n",
        "* Замены сходных по написанию английских букв на русские.\n",
        "* Перестановки пар соседних символов."
      ]
    },
    {
      "cell_type": "code",
      "execution_count": null,
      "metadata": {
        "id": "si3kV0_uzEEt",
        "outputId": "46a052f8-3902-47bf-c5e2-f62f9c7c73e4"
      },
      "outputs": [
        {
          "name": "stdout",
          "output_type": "stream",
          "text": [
            "как дела\n",
            "отлично\n"
          ]
        }
      ],
      "source": [
        "from functools import lru_cache\n",
        "\n",
        "def load_dictionary(file_path):\n",
        "    dictionary = {}\n",
        "    with open(file_path, 'r', encoding='utf-8') as file:\n",
        "        for line in file:\n",
        "            word, freq = line.strip().split()\n",
        "            dictionary[word] = int(freq)\n",
        "    return dictionary\n",
        "\n",
        "dictionary = load_dictionary('data/words.txt')\n",
        "\n",
        "SIMILAR_LETTERS = {\n",
        "    'a': 'а', 'c': 'с', 'e': 'е', 'o': 'о',\n",
        "    'p': 'р', 'x': 'х', 'y': 'у', 'k': 'к',\n",
        "    'A': 'А', 'C': 'С', 'E': 'Е', 'O': 'О',\n",
        "    'P': 'Р', 'X': 'Х', 'Y': 'У', 'K': 'К',\n",
        "}\n",
        "\n",
        "@lru_cache(maxsize=None)\n",
        "def modified_levenshtein(s1, s2):\n",
        "    len1, len2 = len(s1), len(s2)\n",
        "    if len1 == 0:\n",
        "        return len2\n",
        "    if len2 == 0:\n",
        "        return len1\n",
        "\n",
        "    cost = 0\n",
        "    if s1[0] != s2[0]:\n",
        "        if (s1[0] in SIMILAR_LETTERS and SIMILAR_LETTERS[s1[0]] == s2[0]) or \\\n",
        "           (s2[0] in SIMILAR_LETTERS and SIMILAR_LETTERS[s2[0]] == s1[0]):\n",
        "            cost = 0\n",
        "        else:\n",
        "            cost = 1\n",
        "\n",
        "    distance = min(\n",
        "        modified_levenshtein(s1[1:], s2) + 1,\n",
        "        modified_levenshtein(s1, s2[1:]) + 1,\n",
        "        modified_levenshtein(s1[1:], s2[1:]) + cost\n",
        "    )\n",
        "\n",
        "    if len1 > 1 and len2 > 1 and s1[0] == s2[1] and s1[1] == s2[0]:\n",
        "        distance = min(distance, modified_levenshtein(s1[2:], s2[2:]) + 1)\n",
        "\n",
        "    return distance\n",
        "\n",
        "def find_closest_words(word, max_distance=2):\n",
        "    closest_words = []\n",
        "    for dict_word in dictionary:\n",
        "        distance = modified_levenshtein(word, dict_word)\n",
        "        if distance <= max_distance:\n",
        "            closest_words.append((dict_word, dictionary[dict_word], distance))\n",
        "\n",
        "    if not closest_words:\n",
        "        return None\n",
        "\n",
        "    closest_words.sort(key=lambda x: (x[2], -x[1]))\n",
        "    return closest_words[0][0]\n",
        "\n",
        "def spell_check_word(word):\n",
        "    if word in dictionary:\n",
        "        return word\n",
        "\n",
        "    closest_word = find_closest_words(word, 1)\n",
        "    if closest_word:\n",
        "        return closest_word\n",
        "\n",
        "    closest_word = find_closest_words(word, 2)\n",
        "    if closest_word:\n",
        "        return closest_word\n",
        "\n",
        "    return word\n",
        "\n",
        "def spell(sentence):\n",
        "    words = sentence.split()\n",
        "    corrected_words = []\n",
        "    for word in words:\n",
        "        corrected_word = spell_check_word(word.lower())\n",
        "        corrected_words.append(corrected_word)\n",
        "    return ' '.join(corrected_words)\n",
        "\n",
        "print(spell(\"kак длеа\"))\n",
        "print(spell(\"otличnо\"))"
      ]
    },
    {
      "cell_type": "markdown",
      "metadata": {
        "id": "m7NBmMIyzEEu"
      },
      "source": [
        "## 6. Генераторы текстов"
      ]
    },
    {
      "cell_type": "markdown",
      "metadata": {
        "id": "BAqzfupqzEEu"
      },
      "source": [
        "**6.1.** (уровень сложности: низкий)\n",
        "\n",
        "Реализуйте генератор докладов по цифровой экономике. Данные для генерации извлекаются из таблицы:\n",
        "\n",
        "<table>\n",
        "<tr>\n",
        "<th>1</th>\n",
        "<th>2</th>\n",
        "<th>3</th>\n",
        "<th>4</th>\n",
        "<th>5</th>\n",
        "</tr>\n",
        "<tr>\n",
        "<td>Коллеги,</td>\n",
        "<td>парадигма цифровой экономики</td>\n",
        "<td>открывает новые возможности для</td>\n",
        "<td>дальнейшего углубления</td>\n",
        "<td>знаний и компетенций.</td>\n",
        "</tr>\n",
        "<tr>\n",
        "<td>В то же время,</td>\n",
        "<td>контекст цифровой трансформации</td>\n",
        "<td>выдвигает новые требования</td>\n",
        "<td>бюджетного финансирования</td>\n",
        "<td>непроверенных гипотез.</td>\n",
        "</tr>\n",
        "<tr>\n",
        "<td>Однако,</td>\n",
        "<td>диджитализация бизнес-процессов</td>\n",
        "<td>несёт в себе риски</td>\n",
        "<td>синергетического эффекта</td>\n",
        "<td>волатильных активов.</td>\n",
        "</tr>\n",
        "<tr>\n",
        "<td>Тем не менее,</td>\n",
        "<td>прагматичный подход к цифровым платформам</td>\n",
        "<td>расширяет горизонты</td>\n",
        "<td>компрометации конфиденциальных</td>\n",
        "<td>опасных экспериментов.</td>\n",
        "</tr>\n",
        "<tr>\n",
        "<td>Следовательно,</td>\n",
        "<td>совокупность сквозных технологий</td>\n",
        "<td>заставляет искать варианты</td>\n",
        "<td>универсальной коммодитизации</td>\n",
        "<td>государственно-частных партнёрств.</td>\n",
        "</tr>\n",
        "<tr>\n",
        "<td>Соответственно,</td>\n",
        "<td>программа прорывных исследований</td>\n",
        "<td>не оставляет шанса для</td>\n",
        "<td>несанкционированной кастомизации</td>\n",
        "<td>цифровых следов граждан.</td>\n",
        "</tr>\n",
        "<tr>\n",
        "<td>Вместе с тем,</td>\n",
        "<td>ускорение блокчейн-транзакций</td>\n",
        "<td>повышает вероятность</td>\n",
        "<td>нормативного регулирования</td>\n",
        "<td>нежелательных последствий.</td>\n",
        "</tr>\n",
        "<tr>\n",
        "<td>С другой стороны,</td>\n",
        "<td>экспоненциальный рост Big Data</td>\n",
        "<td>обостряет проблему</td>\n",
        "<td>практического применения</td>\n",
        "<td>внезапных открытий.</td>\n",
        "</tr>\n",
        "</table>"
      ]
    },
    {
      "cell_type": "markdown",
      "metadata": {
        "id": "6uSVzqnUzEEu"
      },
      "source": [
        "Придумайте способ автоматизировать извлечение данных таблицы из этого документа.\n",
        "\n",
        "Доклад должен иметь корректное начало и несколько абзацев текста.\n",
        "\n",
        "Пример доклада показан ниже:\n",
        "\n",
        "```\n",
        "Коллеги, совокупность сквозных технологий повышает вероятность нормативного регулирования опасных экспериментов. С другой стороны, совокупность сквозных технологий несёт в себе риски нормативного регулирования внезапных открытий. Тем не менее, совокупность сквозных технологий открывает новые возможности несанкционированной кастомизации опасных экспериментов.\n",
        "\n",
        "Тем не менее, парадигма цифровой экономики открывает новые возможности практического применения цифровых следов граждан. Соответственно, совокупность сквозных технологий открывает новые возможности универсальной коммодитизации волатильных активов. Следовательно, программа прорывных исследований несёт в себе риски практического применения государственно-частных партнёрств.\n",
        "\n",
        "Следовательно, ускорение блокчейн-транзакций расширяет горизонты универсальной коммодитизации знаний и компетенций. Вместе с тем, прагматичный подход к цифровым платформам не оставляет шанса для нормативного регулирования непроверенных гипотез. Следовательно, прагматичный подход к цифровым платформам повышает вероятность бюджетного финансирования волатильных активов.\n",
        "```"
      ]
    },
    {
      "cell_type": "code",
      "execution_count": null,
      "metadata": {
        "id": "oFLOSOW3zEEu"
      },
      "outputs": [],
      "source": [
        "table = '''\n",
        "<table>\n",
        "<tr>\n",
        "<th>1</th>\n",
        "<th>2</th>\n",
        "<th>3</th>\n",
        "<th>4</th>\n",
        "<th>5</th>\n",
        "</tr>\n",
        "<tr>\n",
        "<td>Коллеги,</td>\n",
        "<td>парадигма цифровой экономики</td>\n",
        "<td>открывает новые возможности для</td>\n",
        "<td>дальнейшего углубления</td>\n",
        "<td>знаний и компетенций.</td>\n",
        "</tr>\n",
        "<tr>\n",
        "<td>В то же время,</td>\n",
        "<td>контекст цифровой трансформации</td>\n",
        "<td>выдвигает новые требования</td>\n",
        "<td>бюджетного финансирования</td>\n",
        "<td>непроверенных гипотез.</td>\n",
        "</tr>\n",
        "<tr>\n",
        "<td>Однако,</td>\n",
        "<td>диджитализация бизнес-процессов</td>\n",
        "<td>несёт в себе риски</td>\n",
        "<td>синергетического эффекта</td>\n",
        "<td>волатильных активов.</td>\n",
        "</tr>\n",
        "<tr>\n",
        "<td>Тем не менее,</td>\n",
        "<td>прагматичный подход к цифровым платформам</td>\n",
        "<td>расширяет горизонты</td>\n",
        "<td>компрометации конфиденциальных</td>\n",
        "<td>опасных экспериментов.</td>\n",
        "</tr>\n",
        "<tr>\n",
        "<td>Следовательно,</td>\n",
        "<td>совокупность сквозных технологий</td>\n",
        "<td>заставляет искать варианты</td>\n",
        "<td>универсальной коммодитизации</td>\n",
        "<td>государственно-частных партнёрств.</td>\n",
        "</tr>\n",
        "<tr>\n",
        "<td>Соответственно,</td>\n",
        "<td>программа прорывных исследований</td>\n",
        "<td>не оставляет шанса для</td>\n",
        "<td>несанкционированной кастомизации</td>\n",
        "<td>цифровых следов граждан.</td>\n",
        "</tr>\n",
        "<tr>\n",
        "<td>Вместе с тем,</td>\n",
        "<td>ускорение блокчейн-транзакций</td>\n",
        "<td>повышает вероятность</td>\n",
        "<td>нормативного регулирования</td>\n",
        "<td>нежелательных последствий.</td>\n",
        "</tr>\n",
        "<tr>\n",
        "<td>С другой стороны,</td>\n",
        "<td>экспоненциальный рост Big Data</td>\n",
        "<td>обостряет проблему</td>\n",
        "<td>практического применения</td>\n",
        "<td>внезапных открытий.</td>\n",
        "</tr>\n",
        "</table> '''"
      ]
    },
    {
      "cell_type": "code",
      "execution_count": null,
      "metadata": {
        "id": "Do_pyuKNzEEu"
      },
      "outputs": [],
      "source": [
        "def extract_table_from_html(html_text):\n",
        "    data = {1: [], 2: [], 3: [], 4: [], 5: []}\n",
        "\n",
        "    rows = []\n",
        "    start = 0\n",
        "    while True:\n",
        "        tr_start = html_text.find('<tr>', start)\n",
        "        if tr_start == -1:\n",
        "            break\n",
        "        tr_end = html_text.find('</tr>', tr_start)\n",
        "        rows.append(html_text[tr_start+4:tr_end])\n",
        "        start = tr_end + 5\n",
        "\n",
        "    for row in rows[1:]:\n",
        "        cells = []\n",
        "        cell_start = 0\n",
        "        while True:\n",
        "            td_start = row.find('<td>', cell_start)\n",
        "            if td_start == -1:\n",
        "                break\n",
        "            td_end = row.find('</td>', td_start)\n",
        "            cell_content = row[td_start+4:td_end]\n",
        "\n",
        "            cells.append(cell_content.strip())\n",
        "            cell_start = td_end + 5\n",
        "\n",
        "        if len(cells) == 5:\n",
        "            for i in range(5):\n",
        "                data[i+1].append(cells[i])\n",
        "\n",
        "    return data\n",
        "\n",
        "class ReportGenerator:\n",
        "    def __init__(self, table_data):\n",
        "        self.table_data = table_data\n",
        "        self.used_combinations = set()\n",
        "\n",
        "    def generate_sentence(self):\n",
        "        while True:\n",
        "            combo = tuple(random.randrange(len(col)) for col in self.table_data.values())\n",
        "            if combo not in self.used_combinations:\n",
        "                self.used_combinations.add(combo)\n",
        "                parts = [\n",
        "                    self.table_data[1][combo[0]],\n",
        "                    self.table_data[2][combo[1]],\n",
        "                    self.table_data[3][combo[2]],\n",
        "                    self.table_data[4][combo[3]],\n",
        "                    self.table_data[5][combo[4]]\n",
        "                ]\n",
        "                return ' '.join(parts)\n",
        "\n",
        "    def generate_report(self, paragraphs=3, sentences=3):\n",
        "        report = []\n",
        "        for _ in range(paragraphs):\n",
        "            paragraph = []\n",
        "            for _ in range(sentences):\n",
        "                paragraph.append(self.generate_sentence())\n",
        "            report.append(' '.join(paragraph))\n",
        "        return '\\n\\n'.join(report)"
      ]
    },
    {
      "cell_type": "code",
      "execution_count": null,
      "metadata": {
        "id": "oSb0kWUAzEEv"
      },
      "outputs": [],
      "source": [
        "import random"
      ]
    },
    {
      "cell_type": "code",
      "execution_count": null,
      "metadata": {
        "id": "qOuT07qgzEEv",
        "outputId": "ec9fbec5-86c8-4ae1-fcfc-1c54cee4934d"
      },
      "outputs": [
        {
          "name": "stdout",
          "output_type": "stream",
          "text": [
            "Тем не менее, диджитализация бизнес-процессов не оставляет шанса для нормативного регулирования нежелательных последствий. Тем не менее, диджитализация бизнес-процессов обостряет проблему дальнейшего углубления государственно-частных партнёрств. В то же время, прагматичный подход к цифровым платформам не оставляет шанса для компрометации конфиденциальных государственно-частных партнёрств.\n",
            "\n",
            "С другой стороны, диджитализация бизнес-процессов несёт в себе риски несанкционированной кастомизации волатильных активов. Вместе с тем, экспоненциальный рост Big Data обостряет проблему несанкционированной кастомизации цифровых следов граждан. Вместе с тем, парадигма цифровой экономики обостряет проблему компрометации конфиденциальных опасных экспериментов.\n",
            "\n",
            "Вместе с тем, ускорение блокчейн-транзакций несёт в себе риски бюджетного финансирования нежелательных последствий. Следовательно, экспоненциальный рост Big Data несёт в себе риски синергетического эффекта нежелательных последствий. В то же время, контекст цифровой трансформации повышает вероятность дальнейшего углубления нежелательных последствий.\n"
          ]
        }
      ],
      "source": [
        "data = extract_table_from_html(table)\n",
        "generator = ReportGenerator(data)\n",
        "report = generator.generate_report()\n",
        "print(report)"
      ]
    },
    {
      "cell_type": "markdown",
      "metadata": {
        "id": "4rvjhPidzEEw"
      },
      "source": [
        "**6.2.** (уровень сложности: ученый)\n",
        "\n",
        "Придумайте и реализуйте алгоритм автоматического построения подобных таблиц на основе произвольного входного текста."
      ]
    },
    {
      "cell_type": "markdown",
      "metadata": {
        "id": "s10hTSxVzEEw"
      },
      "source": [
        "**6.3.** (уровень сложности: низкий)\n",
        "\n",
        "Реализуйте генератор случайных данных ФИО. Список распространенных имен можно скачать из интернета. Фамилии необходимо генерировать самостоятельно – так, чтобы результат оказался не менее реалистичным, чем в примере ниже. Впрочем, можете попробовать генерировать и имена.\n",
        "\n",
        "Примеры работы генератора:\n",
        "\n",
        "```\n",
        "Данил А. Фуций\n",
        "Роман Д. Фецачли\n",
        "Лев Ц. Шолодяк\n",
        "Ильдар Ц. Тачасяк\n",
        "Николай Р. Мугодич\n",
        "Данила И. Табян\n",
        "Семен Л. Черев\n",
        "Самир Д. Тифомский\n",
        "Тамерлан О. Гузянц\n",
        "Святослав И. Набян\n",
        "Герман З. Семидяк\n",
        "Тамерлан К. Башко\n",
        "Назар Ш. Кунарий\n",
        "Степан Е. Гидский\n",
        "Леонид Н. Сабин\n",
        "```"
      ]
    },
    {
      "cell_type": "code",
      "execution_count": null,
      "metadata": {
        "id": "XCGbL1Q_zEEx",
        "outputId": "b9c3dedf-1c6b-4f28-9446-5fe00ca24c10"
      },
      "outputs": [
        {
          "name": "stdout",
          "output_type": "stream",
          "text": [
            "Кузьма Д. Виктоский\n",
            "Юлий С. Христофоенко\n",
            "Константин К. Никитович\n",
            "Арам Р. Имрачев\n",
            "Таврион В. Аристарын\n",
            "Хокон Л. Криспичев\n",
            "Эллиот Н. Октавиаенко\n",
            "Фёдор А. Шамсуддиевский\n",
            "Дино Д. Тиграский\n",
            "Брячислав Т. Евриин\n",
            "Михей С. Алеский\n",
            "Донат П. Евтихиин\n",
            "Якун Ф. Левев\n",
            "Георгий А. Фульевский\n",
            "Кратипп Ф. Рушаин\n"
          ]
        }
      ],
      "source": [
        "import random\n",
        "\n",
        "surname_endings = ['ов', 'ев', 'ин', 'ский', 'цкий', 'евский', 'ович', 'енко', 'чев', 'ын']\n",
        "\n",
        "names = []\n",
        "with open('data/names_rus.txt', 'r', encoding='utf-8') as names_file:\n",
        "    names = [line.strip() for line in names_file]\n",
        "\n",
        "def generate_surname():\n",
        "    first_name = random.choice(names)\n",
        "    surname_base = first_name[:-1]\n",
        "    surname_ending = random.choice(surname_endings)\n",
        "    return surname_base + surname_ending\n",
        "\n",
        "def generate_full_name():\n",
        "    first_name = random.choice(names)\n",
        "    surname = generate_surname()\n",
        "    patronymic = random.choice(names)\n",
        "    middle_initial = patronymic[0]\n",
        "    return f'{first_name} {middle_initial}. {surname}'\n",
        "\n",
        "random_names = [generate_full_name() for _ in range(15)]\n",
        "for name in random_names:\n",
        "    print(name)"
      ]
    },
    {
      "cell_type": "markdown",
      "metadata": {
        "id": "tZbdl26SzEEx"
      },
      "source": [
        "**6.4.** (уровень сложности: средний)\n",
        "\n",
        "Реализуйте простую языковую модель. Обучение модели производится на входном тексте с указанием длины префикса – глубины «памяти» модели. Для каждого префикса, извлеченного из текста, определяется частота встречаемости следуемого за префиксом символа. Более строго говоря, языковая модель основана на применении марковских цепей заданного порядка.\n",
        "\n",
        "Например, если текстом является «На дворе трава, на траве дрова», а префикс выбран длины 2:\n",
        "\n",
        "```Python\n",
        "{' д': {'в': 1, 'р': 1},\n",
        " ' н': {'а': 1},\n",
        " ' т': {'р': 2},\n",
        " ', ': {'н': 1},\n",
        " 'На': {' ': 1},\n",
        " 'а ': {'д': 1, 'т': 1},\n",
        " 'а,': {' ': 1},\n",
        " 'ав': {'а': 1, 'е': 1},\n",
        " 'ва': {',': 1},\n",
        " 'ве': {' ': 1},\n",
        " 'во': {'р': 1},\n",
        " 'дв': {'о': 1},\n",
        " 'др': {'о': 1},\n",
        " 'е ': {'д': 1, 'т': 1},\n",
        " 'на': {' ': 1},\n",
        " 'ов': {'а': 1},\n",
        " 'ор': {'е': 1},\n",
        " 'ра': {'в': 2},\n",
        " 'ре': {' ': 1},\n",
        " 'ро': {'в': 1},\n",
        " 'тр': {'а': 2}}\n",
        "```\n",
        "\n",
        "Если же для того же текста выбрать префикс длины 4, то модель выглядит следующим образом:\n",
        "\n",
        "```Python\n",
        "{' дво': {'р': 1},\n",
        " ' дро': {'в': 1},\n",
        " ' на ': {'т': 1},\n",
        " ' тра': {'в': 2},\n",
        " ', на': {' ': 1},\n",
        " 'На д': {'в': 1},\n",
        " 'а дв': {'о': 1},\n",
        " 'а тр': {'а': 1},\n",
        " 'а, н': {'а': 1},\n",
        " 'ава,': {' ': 1},\n",
        " 'аве ': {'д': 1},\n",
        " 'ва, ': {'н': 1},\n",
        " 'ве д': {'р': 1},\n",
        " 'воре': {' ': 1},\n",
        " 'двор': {'е': 1},\n",
        " 'дров': {'а': 1},\n",
        " 'е др': {'о': 1},\n",
        " 'е тр': {'а': 1},\n",
        " 'на т': {'р': 1},\n",
        " 'оре ': {'т': 1},\n",
        " 'рава': {',': 1},\n",
        " 'раве': {' ': 1},\n",
        " 'ре т': {'р': 1},\n",
        " 'трав': {'а': 1, 'е': 1}}\n",
        "```"
      ]
    },
    {
      "cell_type": "markdown",
      "metadata": {
        "id": "eMp8DdJpzEEy"
      },
      "source": [
        "Далее по модели необходимо генерировать текст заданной длины:\n",
        "\n",
        "1. Очередной символ генерируется с использованием существующего префикса. По префиксу случайно выбирается следующий за ним символ с учетом частот встречаемости. Этот символ и добавляется к результату. Случайный выбор должен быть взвешенным, см. на этот счет функцию в стандартной библиотеке Питона.\n",
        "1. Далее из префикса удаляется самый старый символ, а в конец префикса добавляется только что случайно выбранный символ."
      ]
    },
    {
      "cell_type": "markdown",
      "metadata": {
        "id": "q33Kp2sgzEEy"
      },
      "source": [
        "Для тестирования генератора можно использовать тексты [стихотворных произведений Пушкина](data/pushkin.txt)."
      ]
    },
    {
      "cell_type": "markdown",
      "metadata": {
        "id": "1mQDAnATzEEy"
      },
      "source": [
        "Пример использования генератора для префикса длины 2:\n",
        "\n",
        "```\n",
        "ней то бов, чесно мит\n",
        "Душоктям.\n",
        "Безовамирать я продна людоходволишь иход,\n",
        "Алединесвятвосиютсятномн в днасть\n",
        "И подин\n",
        "При негиных был на.\n",
        "А сласы поэтоних и скому безда: оне вой обого стяк, зан.\n",
        "О бесни це мнезорошладом: «Ость,\n",
        "Добоже счальцаризна\n",
        "Кого страв туп; опустой пииныхая, обколегкорывет.\n",
        "Придалоник?..\n",
        "Мы вый в столоных\n",
        "Со своночью взордце.\n",
        "Болье.\n",
        "Препа\n",
        "Сразарных шветхаяснебашипя не прет онье\n",
        "Походит винуждеж ной несь –\n",
        "От лее, суг мой онью я ней,\n",
        "И друговольковел ждуша вны:\n",
        "```"
      ]
    },
    {
      "cell_type": "markdown",
      "metadata": {
        "id": "okZJL0PPzEEz"
      },
      "source": [
        "Пример использования генератора для префикса длины 5:\n",
        "\n",
        "```\n",
        "Вздыхала, как нежный?\n",
        "Мария!\n",
        "Опомнишь: в страданью крымских годованья\n",
        "Стоная мгла недели Петрова,\n",
        "И тихий солнце кровью\n",
        "Спасти не пила,\n",
        "Чтоб с неволе сводом туманен лунный стар и хлад;\n",
        "Вставался.\n",
        "Глядит на солнце подымался он удалился.\n",
        "Все флаги в горько волен,\n",
        "Когда молю: не ела,\n",
        "Когда на месте вдруг,\n",
        "Турецкой ранки,\n",
        "А мы поедем;\n",
        "Принесла таинственный набег опять узы стране робко сядем.\n",
        "Удивлена,\n",
        "Ужасный\n",
        "В младой меркнет бездна!\n",
        "Дон Гуан вам\n",
        "Шутишь?\n",
        "Лепорелло\n",
        "Ай, ай!..\n",
        "```"
      ]
    },
    {
      "cell_type": "markdown",
      "metadata": {
        "id": "bJ3E-wmQzEEz"
      },
      "source": [
        "Пример использования генератора для префикса длины 10:\n",
        "\n",
        "```\n",
        "С тех пор, как умерла княжна,\n",
        "Свершилось и ее страданье,\n",
        "Где крепко с Вольностью святой\n",
        "Законов мощных сочетанье;\n",
        "Где всем простерт их твердый щит,\n",
        "Где сжатый верными руками\n",
        "Граждан над равными главами\n",
        "Их меч без выбора скользит\n",
        "И преступленью не причастна;\n",
        "Я знаю: не твоя вина…\n",
        "Итак, послушай: я прекрасна;\n",
        "Во всем гареме ты одна\n",
        "Могла б еще мне быть умней!\n",
        "Но узнаю по всем приметам\n",
        "Болезнь любви в душе моей угасла не совсем;\n",
        "Но пусть она вас больше не тревожит;\n",
        "Я не хочу печалить вас\n",
        "```"
      ]
    },
    {
      "cell_type": "code",
      "execution_count": null,
      "metadata": {
        "id": "TxldIzu7zEEz",
        "outputId": "cd779766-af2a-46c9-d8a7-e34660140d5f"
      },
      "outputs": [
        {
          "name": "stdout",
          "output_type": "stream",
          "text": [
            "воле, ни рассвета дом – и вот\n",
            "Она горе той, чудно угадали; точно: силой!\n",
            "Твой девочкой жадными ручьями;\n",
            "Простить.\n",
            "Герцог\n",
            "Альбер\n",
            "Что с вами,\n",
            "Проснувшие дни,\n",
            "Как они городный говорит: Послушливые звук,\n",
            "И песню!\n",
            "В дни надгробницу Эву:\n",
            "Чтоб угости смешит,\n",
            "Ночная мечтался,\n",
            "В смятен. Езжали;\n",
            "Нависли хладною душой;\n",
            "Он сам король старого отец,\n",
            "Давай улетай,\n",
            "Не смел\n",
            "Его я теперь готовилась, но по как-то взор,\n",
            "Молву не дохнуть.\n",
            "XXVII\n",
            "Свои сомкнуты нет право всё. Татьяну в уголок,\n",
            "Принесенный,\n",
            "В надежно кр\n"
          ]
        }
      ],
      "source": [
        "import random\n",
        "\n",
        "def build_markov_model(text, prefix_length):\n",
        "    model = {}\n",
        "\n",
        "    for i in range(len(text) - prefix_length):\n",
        "        prefix = text[i:i+prefix_length]\n",
        "        next_char = text[i+prefix_length]\n",
        "\n",
        "        if prefix not in model:\n",
        "            model[prefix] = {}\n",
        "\n",
        "        if next_char not in model[prefix]:\n",
        "            model[prefix][next_char] = 0\n",
        "\n",
        "        model[prefix][next_char] += 1\n",
        "\n",
        "    return model\n",
        "\n",
        "def generate_text(model, prefix_length, length):\n",
        "    words = text.split()\n",
        "    start_word = random.choice(words)\n",
        "    start_index = text.find(start_word)\n",
        "    current_prefix = text[start_index:start_index + prefix_length]\n",
        "\n",
        "    result = current_prefix\n",
        "\n",
        "    for _ in range(length - prefix_length):\n",
        "        if current_prefix not in model:\n",
        "            break\n",
        "\n",
        "        next_chars = model[current_prefix]\n",
        "        total = sum(next_chars.values())\n",
        "\n",
        "        next_char = random.choices(\n",
        "            list(next_chars.keys()),\n",
        "            weights=next_chars.values(),\n",
        "            k=1\n",
        "        )[0]\n",
        "\n",
        "        result += next_char\n",
        "\n",
        "        current_prefix = current_prefix[1:] + next_char\n",
        "\n",
        "    return result\n",
        "\n",
        "file_path = 'data/pushkin.txt'\n",
        "with open(file_path, 'r', encoding='windows-1251') as f:\n",
        "    text = f.read()\n",
        "\n",
        "prefix_length = 5\n",
        "generated_length = 500\n",
        "\n",
        "model = build_markov_model(text, prefix_length)\n",
        "\n",
        "generated_text = generate_text(model, prefix_length, generated_length)\n",
        "print(generated_text)"
      ]
    },
    {
      "cell_type": "markdown",
      "metadata": {
        "id": "nwF2cSTBzEE0"
      },
      "source": [
        "**6.5.** (уровень сложности: средний)\n",
        "\n",
        "Реализуйте алгоритм BPE (Byte Pair Encoding) для предварительной обработки текстов. Сравните результаты генерации цепью Маркова с помощью BPE и без него."
      ]
    },
    {
      "cell_type": "code",
      "execution_count": null,
      "metadata": {
        "id": "3T8F-HZszEE0"
      },
      "outputs": [],
      "source": [
        "import re\n",
        "from collections import defaultdict, Counter\n",
        "from random import choices\n",
        "\n",
        "def get_stats(vocab):\n",
        "    pairs = defaultdict(int)\n",
        "    for word, freq in vocab.items():\n",
        "        symbols = word.split()\n",
        "        for i in range(len(symbols)-1):\n",
        "            pair = (symbols[i], symbols[i+1])\n",
        "            pairs[pair] += freq\n",
        "    return pairs\n",
        "\n",
        "def merge_vocab(pair, vocab_in):\n",
        "    vocab_out = {}\n",
        "    a, b = pair\n",
        "    merged = a + b\n",
        "    pattern = re.compile(r'(?<!\\S)' + re.escape(f'{a} {b}') + r'(?!\\S)')\n",
        "\n",
        "    for word, freq in vocab_in.items():\n",
        "        new_word = pattern.sub(merged, word)\n",
        "        vocab_out[new_word] = freq\n",
        "    return vocab_out\n",
        "\n",
        "def apply_bpe(text, num_merges):\n",
        "    words = text.split()\n",
        "    vocab = Counter(words)\n",
        "\n",
        "    vocab = {' '.join(list(word)): freq for word, freq in vocab.items()}\n",
        "\n",
        "    for _ in range(num_merges):\n",
        "        pairs = get_stats(vocab)\n",
        "        if not pairs:\n",
        "            break\n",
        "        best_pair = max(pairs, key=pairs.get)\n",
        "        vocab = merge_vocab(best_pair, vocab)\n",
        "\n",
        "    bpe_words = []\n",
        "    for word in text.split():\n",
        "        tokenized = ' '.join(list(word))\n",
        "        for merged in vocab.keys():\n",
        "            if tokenized in merged:\n",
        "                tokenized = merged\n",
        "                break\n",
        "        bpe_words.append(tokenized.replace(' ', ''))\n",
        "\n",
        "    return ' '.join(bpe_words)\n",
        "\n",
        "def build_markov_model(text, prefix_length):\n",
        "    model = defaultdict(Counter)\n",
        "    text = text.split() if isinstance(text, str) else text\n",
        "\n",
        "    for i in range(len(text)-prefix_length):\n",
        "        prefix = tuple(text[i:i+prefix_length])\n",
        "        next_word = text[i+prefix_length]\n",
        "        model[prefix][next_word] += 1\n",
        "\n",
        "    return model\n",
        "\n",
        "def generate_text(model, prefix_length, length):\n",
        "    if not model:\n",
        "        return \"\"\n",
        "\n",
        "    prefix = choices(list(model.keys()))[0]\n",
        "    output = list(prefix)\n",
        "\n",
        "    for _ in range(length):\n",
        "        possible_next = model.get(prefix, {})\n",
        "        if not possible_next:\n",
        "            break\n",
        "\n",
        "        next_word = choices(\n",
        "            list(possible_next.keys()),\n",
        "            weights=list(possible_next.values())\n",
        "        )[0]\n",
        "\n",
        "        output.append(next_word)\n",
        "        prefix = tuple(output[-prefix_length:])\n",
        "\n",
        "    return ' '.join(output)"
      ]
    },
    {
      "cell_type": "code",
      "execution_count": null,
      "metadata": {
        "id": "61AnvfG-zEE0",
        "outputId": "e49f09ca-8625-4855-89e9-8568a8bc0259"
      },
      "outputs": [
        {
          "name": "stdout",
          "output_type": "stream",
          "text": [
            "Сгенерировано по обычному тексту\n",
            "воле, ни рассвета дом – и вот\n",
            "Она горе той, чудно угадали; точно: силой!\n",
            "Твой девочкой жадными ручьями;\n",
            "Простить.\n",
            "Герцог\n",
            "Альбер\n",
            "Что с вами,\n",
            "Проснувшие дни,\n",
            "Как они городный говорит: Послушливые звук,\n",
            "И песню!\n",
            "В дни надгробницу Эву:\n",
            "Чтоб угости смешит,\n",
            "Ночная мечтался,\n",
            "В смятен. Езжали;\n",
            "Нависли хладною душой;\n",
            "Он сам король старого отец,\n",
            "Давай улетай,\n",
            "Не смел\n",
            "Его я теперь готовилась, но по как-то взор,\n",
            "Молву не дохнуть.\n",
            "XXVII\n",
            "Свои сомкнуты нет право всё. Татьяну в уголок,\n",
            "Принесенный,\n",
            "В надежно кр\n",
            "\n",
            "Сгенерировано по тексту после BPE\n",
            "стон; Ни прежних чувств, предрассуждений разговоров Сожженое мною не находит Закон. Ты преступленью не причастна; Я знаю: не твоя вина… Итак, послушай: сокройся прекрасна; Вольность всем гареме стыд одна Могла слабая еще мне быть опасна; Но сокройся для страсти рождена, Но стыд любить, как Крушится, не можешь; Зачем изнеженную хладной красотой Ты сердце слабое тревожишь? Оставь Гирея мне: тронах мой; На мне горят его лобзанья, Он клятвы страшные мне дал, Давно все думы, все желанья Гирей Вольность моими сочетал; Меня убьет его измена… Я плачу; видишь, сокройся колена Теперь склоняю пред тобой, Молю, винить тебя не смея, Отдай мне радость Беги, покой, Отдай мне прежнего Гирея… Нетерпеливою возражай мне ничего; Он мой! тронах ослеплен тобою. Презреньем, просьбою, тоскою, Чем хочешь, отврати его; Клянись… (хоть сокройся для Алкорана, Между невольницами хана, Забыла веру прежних дней; Но вера матери моей Была твоя) клянись мне зреют Зарему возвратить Гирею… Но слушай: если сокройся должна Тебе… кинжалом сокройся владею, Я близ Кавказа рождена. Сказав, исчезла вдруг. Законов нею Нетерпеливою смеет следовать княжна. Невинной деве непонятен Язык мучительных страстей, Но голос их царей, смутно внятен; Он странен, тронах ужасен злодей. Какие слезы Беги, моленья Ее спасут потомства, посрамленья? Что ждет ее? Ужели царей, Остаток горьких юных дней Провесть наложницей презренной? Ода боже! если бы Гирей Вольность белеет темнице отдаленной Забыл несчастную навек Или кончиной ускоренной Унылы дни белеет пресек, – Свободы какою слабая радостью Мария Оставила печальный свет! Мгновенья жизни дорогие Давно прошли, давно их нет! Что делать царей, Свободы пустыне мира? Уж царей, пора, Марию ждут И Свободы небеса, на лоно мира, Родной улыбкою зовут. …………………………… Промчались дни; Марии нет. Мгновенно сирота почила. Она давно желанный свет, Как новый ангел, озарила. Но что изнеженную Свободы гроб белеет свело? Тоска ль неволи безнадежной, Болезнь или другое зло?.. Кто знает? Нет Марии нежной!.. Дворец угрюмый, опустел; Его Гирей опять оставил; Свободы толпой татар Свободы чужой, предел Он злой набег опять направил; Он снова Свободы бурях боевых Несется мрачный, кровожадный: Но Свободы сердце хана чувств иных Таится пламень безотрадный. Он часто Свободы сечах роковых Подъемлет саблю, Беги, Вольность размаха Недвижим остается вдруг, Глядит Вольность безумием вокруг, Бледнеет, будто полный страха, И что-то шепчет, Беги, порой Горючи слезы льет рекой. Забытый, преданный презренью, Гарем не зрит его лица; Там, обреченные мученью, Под стражей хладного скопца Стареют жены. Между ними Давно грузинки нет; она Гарема стражами немыми Вольность пучину вод опущена. Вольность преступленье ночь, как умерла княжна, Свершилось Беги, белеет страданье. Какая слабая предрассуждений была вина, Ужасно было наказанье! Опустошив огнем войны Кавказу близкие страны И селы мирные России, Вольность Тавриду возвратился дыханье, И Свободы память горестной Марии Воздвигнул мраморный фонтан, Вольность углу дворца уединенный. Над пеним крестом осенена Магометанская луна (Символ, конечно, дерзновенный, Незнанья жалкая вина). Есть надпись: едкими годами Еще не сгладилась она. Законов чуждыми белеет чертами Журчит во мраморе вода И каплет хладными слезами, Нетерпеливою умолкая никогда. Так плачет мать во дни печали Ода сыне, падшем на войне. Младые девы Свободы клеветой, стране Преданье старины узнали, И мрачный памятник оне Фонтаном слез именовали. Покинув север наконец, Пиры надолго забывая, Я посетил\n"
          ]
        }
      ],
      "source": [
        "bpe_text = apply_bpe(text, num_merges=100)\n",
        "\n",
        "bpe_model = build_markov_model(bpe_text, prefix_length)\n",
        "\n",
        "bpe_generated_text = generate_text(bpe_model, prefix_length, generated_length)\n",
        "\n",
        "print(\"Сгенерировано по обычному тексту\")\n",
        "print(generated_text)\n",
        "print(\"\\nСгенерировано по тексту после BPE\")\n",
        "print(bpe_generated_text)"
      ]
    },
    {
      "cell_type": "markdown",
      "metadata": {
        "id": "-feOFfnezEE1"
      },
      "source": [
        "## 7. Движок для текстовых игр\n",
        "\n",
        "**7.1.** (уровень сложности: средний)\n",
        "\n",
        "Мир простейших текстовых игр (книг-игр, Choose Your Own Adventure) состоит из множества комнат.\n",
        "\n",
        "Каждая комната содержит:\n",
        "\n",
        "* название,\n",
        "* метку для перехода в эту комнату,\n",
        "* описание комнаты,\n",
        "* список действий со стороны игрока, приводящих к выводу сообщения и переходу в другую комнату по ее метке.\n",
        "\n",
        "В рассматриваемом движке для описания игрового мира используется подмножество формата Markdown.\n",
        "\n",
        "[Вот простейшая игра](data/game.md), реализованная таким образом.\n",
        "\n",
        "Задача состоит в реализации разбора указанного формата, а также в реализации игрового процесса в режиме терминала. Разбор необходимо осуществлять построчно, с помощью регулярных выражений.\n",
        "\n",
        "Ниже показан пример сеанса игры:\n",
        "\n",
        "```\n",
        "Начало лабиринта\n",
        "\n",
        "Вы в начале лабиринта. Сможете ли из него выбраться?\n",
        "\n",
        "1. Проход на запад.\n",
        "\n",
        "> 1\n",
        "\n",
        "...\n",
        "\n",
        "Комната №2\n",
        "\n",
        "Вы находитесь в комнате №2.\n",
        "\n",
        "1. Проход на запад.\n",
        "2. Проход на восток.\n",
        "\n",
        "> 1\n",
        "\n",
        "...\n",
        "\n",
        "Комната №3\n",
        "\n",
        "Вы находитесь в комнате №3.\n",
        "\n",
        "1. Проход на север.\n",
        "2. Проход на восток.\n",
        "\n",
        ">\n",
        "```"
      ]
    },
    {
      "cell_type": "markdown",
      "metadata": {
        "id": "EoM1p596zEE1"
      },
      "source": [
        "**7.2.** (уровень сложности: средний)\n",
        "\n",
        "Вот еще один вариант игры [game.txt](data/game.txt), с более детальным описанием мира и другим форматом разметки. Реализуйте интерпретатор и для этого варианта игры."
      ]
    },
    {
      "cell_type": "markdown",
      "metadata": {
        "id": "Iq6auGwRzEE2"
      },
      "source": [
        "**7.3.** (уровень сложности: средний)\n",
        "\n",
        "Изобразите граф игрового мира с помощью генерации кода на языке Dot – представления инструмента Graphviz.\n",
        "\n",
        "Пример вывода графа для [game.md](data/game.md):\n",
        "\n",
        "![](data/game_md.png)"
      ]
    },
    {
      "cell_type": "markdown",
      "metadata": {
        "id": "hdJZ3TIizEE2"
      },
      "source": [
        "**7.4.** (уровень сложности: высокий)\n",
        "\n",
        "Переработайте игровой движок таким образом, чтобы поддерживалась генерация html-проекта для игры в Web. Поддержите также вывод графики в формате игрового мира."
      ]
    },
    {
      "cell_type": "markdown",
      "metadata": {
        "id": "naL8ZWmmzEE2"
      },
      "source": [
        "**7.5.** (уровень сложности: высокий)\n",
        "\n",
        "Реализуйте инструмент для автоматической проверки игрового мира на наличие тупиков – мест, из которых нельзя добраться до завершения игры."
      ]
    },
    {
      "cell_type": "markdown",
      "metadata": {
        "id": "RGGHFiuXzEE2"
      },
      "source": [
        "## 8. Утилиты командной строки"
      ]
    },
    {
      "cell_type": "markdown",
      "metadata": {
        "id": "gSU4eXhbzEE3"
      },
      "source": [
        "**8.1.** (уровень сложности: низкий)\n",
        "\n",
        "Реализуйте аналог команды ls с помощью стандартной библиотеки Питона. Реализованная команда должна работать и в Windows, и в Linux. Поддержите как можно больше ключей ls. Для разбора аргументов командной строки используйте модуль [argparse](https://docs.python.org/3/library/argparse.html)."
      ]
    },
    {
      "cell_type": "markdown",
      "metadata": {
        "id": "mEEG5Yq-zEE3"
      },
      "source": [
        "**8.2.** (уровень сложности: низкий)\n",
        "\n",
        "Реализуйте утилиту командной строки, формирующую дерево каталогов и файлов с учетом произвольной вложенности и начиная с заданного пути. Результат должен быть выдан в виде текста в формате Graphviz."
      ]
    },
    {
      "cell_type": "markdown",
      "metadata": {
        "id": "oNmzULknzEE3"
      },
      "source": [
        "**8.3.** (уровень сложности: средний)\n",
        "\n",
        "Реализуйте утилиту командной строки, которая преобразует в Markdown-файле обычные кавычки в кавычки-елочки с учетом их парности. Внутри блоков кода кавычки необходимо оставлять без изменений. Если утилита была запущена без аргументов, то необходимо обрабатывать стандартный ввод."
      ]
    }
  ],
  "metadata": {
    "kernelspec": {
      "display_name": ".venv",
      "language": "python",
      "name": "python3"
    },
    "language_info": {
      "codemirror_mode": {
        "name": "ipython",
        "version": 3
      },
      "file_extension": ".py",
      "mimetype": "text/x-python",
      "name": "python",
      "nbconvert_exporter": "python",
      "pygments_lexer": "ipython3",
      "version": "3.11.2"
    },
    "colab": {
      "provenance": []
    }
  },
  "nbformat": 4,
  "nbformat_minor": 0
}